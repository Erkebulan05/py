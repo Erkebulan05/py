{
 "cells": [
  {
   "cell_type": "code",
   "execution_count": 18,
   "id": "fd651d6d",
   "metadata": {},
   "outputs": [
    {
     "name": "stdout",
     "output_type": "stream",
     "text": [
      "a+1=2\n",
      "a-20=-19\n",
      "(a+1)*2=4\n",
      "(a+5)/3=2.0\n",
      "(a+1)^5=32\n",
      "(a+9)^10=10000000000\n"
     ]
    }
   ],
   "source": [
    "a=1\n",
    "print(f\"a+1={a+1}\")\n",
    "print(f\"a-20={a-20}\")\n",
    "print(f\"(a+1)*2={(a+1)*2}\")\n",
    "print(f\"(a+5)/3={(a+5)/3}\")\n",
    "print(f\"(a+1)^5={(a+1)**5}\")\n",
    "print(f\"(a+9)^10={pow(a+9,10)}\")"
   ]
  },
  {
   "cell_type": "code",
   "execution_count": 4,
   "id": "ed73c056",
   "metadata": {},
   "outputs": [
    {
     "name": "stdout",
     "output_type": "stream",
     "text": [
      "arpu_almaty=13,arpu_astana=12\n",
      "sum: 26\n"
     ]
    }
   ],
   "source": [
    "users_astana=4900\n",
    "revenue_astana=63000\n",
    "arpu_astana = revenue_astana / users_astana\n",
    "users_almaty=3500\n",
    "revenue_almaty=48000\n",
    "arpu_almaty = revenue_almaty / users_almaty\n",
    "print(f\"arpu_almaty={int(arpu_almaty)},arpu_astana={int(arpu_astana)}\" )\n",
    "sum=arpu_almaty+arpu_astana\n",
    "print('sum:',int(sum))"
   ]
  },
  {
   "cell_type": "code",
   "execution_count": 14,
   "id": "a516f154",
   "metadata": {},
   "outputs": [
    {
     "name": "stdout",
     "output_type": "stream",
     "text": [
      "Hello World\n",
      "Hello World\n"
     ]
    }
   ],
   "source": [
    "my_string=\"Hello\"\n",
    "project_name=\"World\"\n",
    "print(my_string+' '+project_name)\n",
    "print(my_string,project_name)"
   ]
  },
  {
   "cell_type": "code",
   "execution_count": 29,
   "id": "1adf5d2d",
   "metadata": {},
   "outputs": [
    {
     "name": "stdout",
     "output_type": "stream",
     "text": [
      "Course name Python for data analysis\n"
     ]
    }
   ],
   "source": [
    "project_name = 'Python for data analysis'\n",
    "print('Course name '+project_name)"
   ]
  },
  {
   "cell_type": "code",
   "execution_count": 8,
   "id": "3eb1b151",
   "metadata": {},
   "outputs": [
    {
     "name": "stdout",
     "output_type": "stream",
     "text": [
      "results 10\n",
      "results 10\n",
      "results 10\n"
     ]
    }
   ],
   "source": [
    "result=10\n",
    "print(\"results \"+str(result))\n",
    "print(f\"results {result}\")\n",
    "print(\"results {}\".format(result))"
   ]
  },
  {
   "cell_type": "code",
   "execution_count": 32,
   "id": "dac4e2e9",
   "metadata": {},
   "outputs": [
    {
     "name": "stdout",
     "output_type": "stream",
     "text": [
      "ARPU value of Astana users is 12.857142857142858\n"
     ]
    }
   ],
   "source": [
    "users_astana=4900\n",
    "revenue_astana=63000\n",
    "arpu_astana = revenue_astana / users_astana\n",
    "print('ARPU value of Astana users is '+str(arpu_astana))"
   ]
  },
  {
   "cell_type": "code",
   "execution_count": 5,
   "id": "6881a3a2",
   "metadata": {},
   "outputs": [
    {
     "name": "stdout",
     "output_type": "stream",
     "text": [
      "Astana: 4900 users, revenue 63000 tenge, ARPU 12.857142857142858\n"
     ]
    }
   ],
   "source": [
    "print('Astana: {} users, revenue {} tenge, ARPU {}'.format(users_astana, revenue_astana, arpu_astana))"
   ]
  },
  {
   "cell_type": "code",
   "execution_count": 11,
   "id": "1a0f3739",
   "metadata": {},
   "outputs": [
    {
     "name": "stdout",
     "output_type": "stream",
     "text": [
      "Almaty: 3500 users, revenue 48000 tenge, ARPU 13.7143\n"
     ]
    }
   ],
   "source": [
    "print('Almaty: {} users, revenue {} tenge, ARPU {:.4f}'.format(users_almaty, revenue_almaty, arpu_almaty))"
   ]
  },
  {
   "cell_type": "code",
   "execution_count": 55,
   "id": "739c58e9",
   "metadata": {},
   "outputs": [
    {
     "name": "stdout",
     "output_type": "stream",
     "text": [
      "False\n"
     ]
    }
   ],
   "source": [
    "a=1\n",
    "b=2\n",
    "print(a==b)"
   ]
  },
  {
   "cell_type": "code",
   "execution_count": 38,
   "id": "7f9dd5e5",
   "metadata": {},
   "outputs": [
    {
     "name": "stdout",
     "output_type": "stream",
     "text": [
      "1.0666666666666667\n",
      "0.8571428571428559\n",
      "True\n"
     ]
    }
   ],
   "source": [
    "print(float(arpu_almaty) / float(arpu_astana))\n",
    "print(arpu_almaty - arpu_astana)\n",
    "print(arpu_almaty > arpu_astana)"
   ]
  },
  {
   "cell_type": "code",
   "execution_count": 53,
   "id": "edd8716e",
   "metadata": {},
   "outputs": [
    {
     "name": "stdout",
     "output_type": "stream",
     "text": [
      "Almaty: 3500 users, revenue 48000 tenge, ARPU 13.7143\n"
     ]
    }
   ],
   "source": [
    "print('Almaty: {} users, revenue {} tenge, ARPU {:.4%}'.format(users_almaty, revenue_almaty, arpu_almaty))"
   ]
  },
  {
   "cell_type": "markdown",
   "id": "4fa5b5f5",
   "metadata": {},
   "source": []
  },
  {
   "cell_type": "code",
   "execution_count": 56,
   "id": "c0f88183",
   "metadata": {},
   "outputs": [
    {
     "name": "stdout",
     "output_type": "stream",
     "text": [
      "The Zen of Python, by Tim Peters\n",
      "\n",
      "Beautiful is better than ugly.\n",
      "Explicit is better than implicit.\n",
      "Simple is better than complex.\n",
      "Complex is better than complicated.\n",
      "Flat is better than nested.\n",
      "Sparse is better than dense.\n",
      "Readability counts.\n",
      "Special cases aren't special enough to break the rules.\n",
      "Although practicality beats purity.\n",
      "Errors should never pass silently.\n",
      "Unless explicitly silenced.\n",
      "In the face of ambiguity, refuse the temptation to guess.\n",
      "There should be one-- and preferably only one --obvious way to do it.\n",
      "Although that way may not be obvious at first unless you're Dutch.\n",
      "Now is better than never.\n",
      "Although never is often better than *right* now.\n",
      "If the implementation is hard to explain, it's a bad idea.\n",
      "If the implementation is easy to explain, it may be a good idea.\n",
      "Namespaces are one honking great idea -- let's do more of those!\n"
     ]
    }
   ],
   "source": [
    "import this"
   ]
  },
  {
   "cell_type": "code",
   "execution_count": 20,
   "id": "3d1ceabf",
   "metadata": {},
   "outputs": [
    {
     "name": "stdout",
     "output_type": "stream",
     "text": [
      "Result:10\n"
     ]
    }
   ],
   "source": [
    "x=\"hello\"\n",
    "x=10\n",
    "print(\"Result:\"+str(x))"
   ]
  },
  {
   "cell_type": "code",
   "execution_count": 28,
   "id": "e993206e",
   "metadata": {},
   "outputs": [
    {
     "name": "stdout",
     "output_type": "stream",
     "text": [
      "apple, banana, cherry\n"
     ]
    }
   ],
   "source": [
    "fruits = [\"apple\", \"banana\", \"cherry\"]\n",
    "fruits_string = \", \".join(fruits)\n",
    "\n",
    "print(fruits_string)"
   ]
  },
  {
   "cell_type": "code",
   "execution_count": null,
   "id": "00415f29",
   "metadata": {},
   "outputs": [],
   "source": []
  }
 ],
 "metadata": {
  "kernelspec": {
   "display_name": "Python 3 (ipykernel)",
   "language": "python",
   "name": "python3"
  },
  "language_info": {
   "codemirror_mode": {
    "name": "ipython",
    "version": 3
   },
   "file_extension": ".py",
   "mimetype": "text/x-python",
   "name": "python",
   "nbconvert_exporter": "python",
   "pygments_lexer": "ipython3",
   "version": "3.9.13"
  }
 },
 "nbformat": 4,
 "nbformat_minor": 5
}
