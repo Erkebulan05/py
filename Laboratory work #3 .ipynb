{
 "cells": [
  {
   "cell_type": "code",
   "execution_count": null,
   "id": "68ce61a4",
   "metadata": {},
   "outputs": [],
   "source": [
    "# step 1 \n",
    "\n",
    "numbers_list1 = list(range(1, 101))\n",
    "print(numbers_list1)\n",
    "\n",
    "\n",
    "numbers_list2 = list(range(1, 100 + 1))\n",
    "print(numbers_list2)\n",
    "\n",
    "\n",
    "numbers_list3 = list(range(10))\n",
    "print(numbers_list3)\n"
   ]
  },
  {
   "cell_type": "code",
   "execution_count": 112,
   "id": "5b9e7b2d",
   "metadata": {},
   "outputs": [
    {
     "name": "stdout",
     "output_type": "stream",
     "text": [
      "0\n",
      "1\n",
      "2\n",
      "3\n",
      "4\n",
      "5\n",
      "6\n",
      "7\n",
      "8\n",
      "9\n"
     ]
    }
   ],
   "source": [
    "# step 2 \n",
    "for i in range(10):\n",
    "    print(i)"
   ]
  },
  {
   "cell_type": "code",
   "execution_count": 30,
   "id": "989a0be4",
   "metadata": {},
   "outputs": [
    {
     "name": "stdout",
     "output_type": "stream",
     "text": [
      "0\n",
      "1\n",
      "4\n",
      "9\n",
      "16\n",
      "25\n",
      "36\n",
      "49\n",
      "64\n",
      "81\n"
     ]
    }
   ],
   "source": [
    "#step 3 \n",
    "for i in range(10):\n",
    "    print(i**2)"
   ]
  },
  {
   "cell_type": "code",
   "execution_count": 27,
   "id": "34fc8055",
   "metadata": {
    "scrolled": true
   },
   "outputs": [
    {
     "name": "stdout",
     "output_type": "stream",
     "text": [
      "['Friday', 'Saturday']\n"
     ]
    }
   ],
   "source": [
    "weekdays = ['Sunday', 'Monday', 'Tuesday', 'Wednesday', 'Thursday', 'Friday', 'Saturday']\n",
    "\n",
    "for i in weekdays:\n",
    "        print(\"Today {}!\".format(i))\n"
   ]
  },
  {
   "cell_type": "code",
   "execution_count": 100,
   "id": "bf264411",
   "metadata": {},
   "outputs": [
    {
     "name": "stdout",
     "output_type": "stream",
     "text": [
      "[83171, 151604, 46315, 98753, 208648, 184682, 204061]\n"
     ]
    }
   ],
   "source": [
    "# step 4\n",
    "direct_revenue = [83171,151604, 46315, 98753, 208648, 184682, 204061,134911,94791,109076,37254, 224991,36400,149320, 171336, 83854, 206799,180922, 235647, 217546, 200478, 239445, 144901, 26522,177971,148458,154937,196095,140202,189223]\n",
    "week_1_revenue = direct_revenue[:7]\n",
    "print(week_1_revenue)"
   ]
  },
  {
   "cell_type": "code",
   "execution_count": 95,
   "id": "463cff38",
   "metadata": {},
   "outputs": [
    {
     "name": "stdout",
     "output_type": "stream",
     "text": [
      "45\n"
     ]
    }
   ],
   "source": [
    "# step 5\n",
    "myList=range(10) \n",
    "result=0 \n",
    "for element in myList:\n",
    "    result+=element\n",
    "print(result)"
   ]
  },
  {
   "cell_type": "code",
   "execution_count": 96,
   "id": "79284261",
   "metadata": {},
   "outputs": [
    {
     "name": "stdout",
     "output_type": "stream",
     "text": [
      "977234\n"
     ]
    }
   ],
   "source": [
    "total_revenue = 0 \n",
    "for day in week_1_revenue:\n",
    "    total_revenue += day \n",
    "print(total_revenue)"
   ]
  },
  {
   "cell_type": "code",
   "execution_count": 118,
   "id": "561dab64",
   "metadata": {},
   "outputs": [
    {
     "name": "stdout",
     "output_type": "stream",
     "text": [
      "Значение element - 83171, сумма на текущий момент - 204061\n",
      "Значение element - 151604, сумма на текущий момент - 408122\n",
      "Значение element - 46315, сумма на текущий момент - 612183\n",
      "Значение element - 98753, сумма на текущий момент - 816244\n",
      "Значение element - 208648, сумма на текущий момент - 1020305\n",
      "Значение element - 184682, сумма на текущий момент - 1224366\n",
      "Значение element - 204061, сумма на текущий момент - 1428427\n"
     ]
    }
   ],
   "source": [
    "total_revenue = 0\n",
    "\n",
    "for i in week_1_revenue:\n",
    "    total_revenue += day\n",
    "    print('Значение element - {}, сумма на текущий момент - {}'.format(i, total_revenue))"
   ]
  },
  {
   "cell_type": "code",
   "execution_count": 67,
   "id": "80a4252e",
   "metadata": {},
   "outputs": [
    {
     "name": "stdout",
     "output_type": "stream",
     "text": [
      "All numbers: [4, 5, 6, 7, 8, 9, 10, 11, 12, 13, 14, 15, 16, 17, 18]\n",
      "Odd square roots: [2.0, 2.449489742783178, 2.8284271247461903, 3.1622776601683795, 3.4641016151377544, 3.7416573867739413, 4.0, 4.242640687119285]\n"
     ]
    }
   ],
   "source": [
    "# 1st task \n",
    "minValue = 4 \n",
    "maxValue = 18 \n",
    "list=[]\n",
    "for i in range (minValue,maxValue+1):\n",
    "    list.append(i)\n",
    "print(list)\n",
    "odd_numbers = []\n",
    "# odd_numbers =list[0::2]\n",
    "# print(odd_numbers)\n",
    "for i in list:\n",
    "    if i % 2 ==0:\n",
    "        odd_numbers.append(i**0.5)\n",
    "print(odd_numbers)\n"
   ]
  },
  {
   "cell_type": "code",
   "execution_count": 69,
   "id": "2194bc4c",
   "metadata": {},
   "outputs": [
    {
     "name": "stdout",
     "output_type": "stream",
     "text": [
      "['смотреть', 'сериалы', 'онлайн']\n"
     ]
    }
   ],
   "source": [
    "# step 7 \n",
    "queriesList = \"смотреть сериалы онлайн\".split( ' ' )\n",
    "print( queriesList)"
   ]
  },
  {
   "cell_type": "code",
   "execution_count": 76,
   "id": "466c95b1",
   "metadata": {},
   "outputs": [
    {
     "name": "stdout",
     "output_type": "stream",
     "text": [
      "['смотреть сериалы онлайн', 'новости спорта', 'афиша кино', 'курс доллара', 'сериалы этим летом', 'курс по питону', 'сериалы про спорт']\n",
      "18\n"
     ]
    }
   ],
   "source": [
    "# task. 2\n",
    "queriesText = 'смотреть сериалы онлайн;новости спорта;афиша кино;курс доллара;сериалы этим летом;курс по питону;сериалы про спорт'\n",
    "queriesList = queriesText.split(';')\n",
    "print( queriesList)\n",
    "total_words = 0\n",
    "for query in queriesList:\n",
    "    words_count = len(query.split())\n",
    "    total_words += words_count\n",
    "print(total_words)"
   ]
  },
  {
   "cell_type": "code",
   "execution_count": 77,
   "id": "bbabafee",
   "metadata": {},
   "outputs": [
    {
     "name": "stdout",
     "output_type": "stream",
     "text": [
      "Конверсия Facebook выше\n"
     ]
    }
   ],
   "source": [
    "# check block \n",
    "# step 1 \n",
    "visit_Vk = 1500 \n",
    "order_Vk = 14 \n",
    "visit_Facebook = 2200\n",
    "order_Facebook = 17 \n",
    "convertation_Vk = visit_Vk / order_Vk\n",
    "convertation_Facebook = visit_Facebook / order_Facebook \n",
    "if (convertation_Vk>convertation_Facebook):\n",
    "    print(\"Конверсия ВКонтакте выше\")\n",
    "else:\n",
    "    print(\"Конверсия Facebook выше\")"
   ]
  },
  {
   "cell_type": "code",
   "execution_count": 79,
   "id": "09747ab8",
   "metadata": {},
   "outputs": [
    {
     "name": "stdout",
     "output_type": "stream",
     "text": [
      "Это бесплатный переход\n"
     ]
    }
   ],
   "source": [
    "# step 2 \n",
    "traffic_sources = ['прямой заход', 'яндекс', 'партнерка', 'вконтакте', 'инфопартнер']\n",
    "source = 'прямой заход'  \n",
    "\n",
    "if source == 'прямой заход' or source == 'инфопартнер':\n",
    "    print('Это бесплатный переход')\n",
    "else:\n",
    "    print('Это платный переход')\n"
   ]
  },
  {
   "cell_type": "code",
   "execution_count": 109,
   "id": "c9a46a20",
   "metadata": {},
   "outputs": [
    {
     "name": "stdout",
     "output_type": "stream",
     "text": [
      "Фраза \"одеяло по дешевке\" не входит в семантическое ядро\n"
     ]
    }
   ],
   "source": [
    "#step 3\n",
    "semantic_list = ['одеяло !купить', 'одеяло !продажа','одеяло цена', 'одеяло стоимость','одеяло прайс','одеяло дешево', 'одеяло недорого','одеяло заказать','одеяло на заказ', 'одеяло с доставкой', 'одеяло магазин','одеяло интернет магазин', 'одеяло со скидкой','одеяло акция','одеяло распродажа']\n",
    "string_to_find  = 'одеяло по дешевке'\n",
    "\n",
    "if string_to_find in semantic_list:\n",
    "    print('Фраза \"{}\" входит в семантическое ядро'.format(string_to_find))\n",
    "else:\n",
    "    print('Фраза \"{}\" не входит в семантическое ядро'.format(string_to_find))\n"
   ]
  },
  {
   "cell_type": "code",
   "execution_count": 84,
   "id": "70e0ad64",
   "metadata": {},
   "outputs": [
    {
     "name": "stdout",
     "output_type": "stream",
     "text": [
      "Найденные слова: ['питон', 'Монти', 'честь', 'шоу']\n"
     ]
    }
   ],
   "source": [
    "#step 4\n",
    "text = 'Название языка питон произошло вовсе не от вида пресмыкающихся. Автор назвал язык в честь популярного британского комедийного телешоу 1970-х Летающий цирк Монти Пайтона'\n",
    "words_to_find = ['питон', 'Монти', 'проверка', 'честь', 'шоу', 'драма']\n",
    "words_found = []\n",
    "\n",
    "for word in words_to_find:\n",
    "    if word in text:\n",
    "        words_found.append(word)\n",
    "\n",
    "print(\"Найденные слова:\", words_found)\n"
   ]
  },
  {
   "cell_type": "code",
   "execution_count": 13,
   "id": "1af79113",
   "metadata": {},
   "outputs": [
    {
     "name": "stdout",
     "output_type": "stream",
     "text": [
      "смотреть сериалы онлайн,курс доллара,сериалы этим летом,курс по питону,сериалы про спорт\n"
     ]
    }
   ],
   "source": [
    "# HW :\n",
    "\n",
    "queries = \"смотреть сериалы онлайн,новости спорта,афиша кино,курс доллара,сериалы этим летом,курс по питону,сериалы про спорт\"\n",
    "\n",
    "words = ['сериалы', 'курс']\n",
    "\n",
    "queries_list = queries.split(',')\n",
    "\n",
    "filtered_queries=[]\n",
    "\n",
    "for query in queries_list:\n",
    "    for word in words:\n",
    "        if word in query:\n",
    "            filtered_queries.append(query.strip())\n",
    "            \n",
    "            \n",
    "\n",
    "result = ','.join(filtered_queries)\n",
    "print(result)"
   ]
  },
  {
   "cell_type": "code",
   "execution_count": null,
   "id": "46807f94",
   "metadata": {},
   "outputs": [],
   "source": []
  },
  {
   "cell_type": "code",
   "execution_count": null,
   "id": "4bef6bc8",
   "metadata": {},
   "outputs": [],
   "source": []
  }
 ],
 "metadata": {
  "kernelspec": {
   "display_name": "Python 3 (ipykernel)",
   "language": "python",
   "name": "python3"
  },
  "language_info": {
   "codemirror_mode": {
    "name": "ipython",
    "version": 3
   },
   "file_extension": ".py",
   "mimetype": "text/x-python",
   "name": "python",
   "nbconvert_exporter": "python",
   "pygments_lexer": "ipython3",
   "version": "3.9.13"
  }
 },
 "nbformat": 4,
 "nbformat_minor": 5
}
