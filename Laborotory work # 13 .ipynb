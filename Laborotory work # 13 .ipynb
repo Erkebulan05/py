{
 "cells": [
  {
   "cell_type": "markdown",
   "id": "bff93639",
   "metadata": {},
   "source": [
    "Exercise 1\n",
    "Write a program which simulates the action of a simple calculator. The program should take as input two integer numbers then a character which is one of +,-, *, /, %. The numbers should be then processed according to the operator input and the result printed out. Your program should correctly intercept any possible erroneous situations (invalid operations, division by zero, etc.) with Handling Exceptions (try/except/else/finally), where you need to use at least TypeError, ValueError, ZeroDivisionError exceptions."
   ]
  },
  {
   "cell_type": "code",
   "execution_count": 21,
   "id": "c8713e6c",
   "metadata": {},
   "outputs": [
    {
     "name": "stdout",
     "output_type": "stream",
     "text": [
      "Enter the first number: 2\n",
      "Enter the second number: 1\n",
      "Enter an operator (+, -, *, /, %): +\n",
      "2.0 + 1.0 = 3.0\n",
      "Calculator program has finished.\n"
     ]
    }
   ],
   "source": [
    "def calculator():\n",
    "    try:\n",
    "        \n",
    "        num1 = float(input(\"Enter the first number: \"))\n",
    "        num2 = float(input(\"Enter the second number: \"))\n",
    "        \n",
    "        operator = input(\"Enter an operator (+, -, *, /, %): \")\n",
    "        \n",
    "        \n",
    "        if operator == \"+\":\n",
    "            result = num1 + num2\n",
    "        elif operator == \"-\":\n",
    "            result = num1 - num2\n",
    "        elif operator == \"*\":\n",
    "            result = num1 * num2\n",
    "        elif operator == \"%\":\n",
    "            try:\n",
    "                result = num1 % num2\n",
    "            except ZeroDivisionError:\n",
    "                print(f\"We divide number zero its error\")\n",
    "                return\n",
    "        elif operator == \"/\":\n",
    "            try:\n",
    "                result = num1 / num2 \n",
    "            except:\n",
    "                print(f\"We divide number zero its error\")\n",
    "                return \n",
    "        \n",
    "        print(f\"{num1} {operator} {num2} = {result}\")\n",
    "        \n",
    "        \n",
    "    except ValueError as ve:\n",
    "        print(f\"Error: {ve}\")\n",
    "    except TypeError:\n",
    "        print(\"Error: Invalid type entered. Please enter a valid number.\")\n",
    "    except ZeroDivisionError:\n",
    "        print(\"Error: Division or modulo by zero is not allowed.\")\n",
    "    except Exception as e:\n",
    "        print(f\"An unexpected error occurred: {e}\")\n",
    "    except SyntaxError:\n",
    "        print(f\"invalid syntax\")\n",
    "    finally:\n",
    "        print(\"Calculator program has finished.\")\n",
    "        \n",
    "\n",
    "calculator()"
   ]
  },
  {
   "cell_type": "markdown",
   "id": "9cae02a9",
   "metadata": {},
   "source": [
    "Exercise 2 \n",
    "\n",
    "Improve your code of Lab12 using try/except/else/finally blocks. "
   ]
  },
  {
   "cell_type": "code",
   "execution_count": 14,
   "id": "63a33030",
   "metadata": {},
   "outputs": [
    {
     "name": "stderr",
     "output_type": "stream",
     "text": [
      "0:123: execution error: Файл некий объект не найден. (-43)\n",
      "69:77: execution error: Не удается получить application \"chrome\". (-1728)\n"
     ]
    },
    {
     "name": "stdout",
     "output_type": "stream",
     "text": [
      "The program work perfect\n",
      "The program finish\n"
     ]
    }
   ],
   "source": [
    "import webbrowser as wb \n",
    "import os\n",
    "\n",
    "try:\n",
    "    message = \"\"\"<!DOCTYPE html>\n",
    "    <html> \n",
    "    <head>\n",
    "    <title>The personal documents about me</title>\n",
    "    </head>\n",
    "    <body>\n",
    "    <h1>The information about myself:</h1>\n",
    "    <h3>Full name: Shopangali Erkebulan </h3>\n",
    "    <img src =\"/Users/shopangali05/Downloads/My file/Project-main/Opportunitues /document/Shopangali Erkebulan_photo.jpg\" alt =\"Photo\" width = '200' height = '200'> \n",
    "    <p>2)Age: 18 years old</p>\n",
    "    <p>3)Birth:15.05.2005</p>\n",
    "    <p>4)Country:Kazakhstan(Aktau)</p>  \n",
    "    <p>5)Hobbies:math,sports and learning new things</p>\n",
    "    <p>6)Study interests:The programming languages(now i learning Java and Python) and math </p>\n",
    "     </p>7)Knowledge of languages:kazakh,russian and english</p>\n",
    "     <p>8)Programming/IT skills:I have a good knowledge of Python and C++.</p>\n",
    "    </body>\n",
    "    </html>\n",
    "    \"\"\"\n",
    "    filename = \"PersonalContact.html\"\n",
    "    file_path = os.path.abspath(filename)\n",
    "\n",
    "    with open(filename , \"w\") as f:\n",
    "        f.write(message)\n",
    "\n",
    "    wb.open_new_tab(\"file://\"+ file_path)\n",
    "except:\n",
    "    print(f\"Error\")\n",
    "else:\n",
    "    print(f\"The program work perfect\")\n",
    "finally:\n",
    "    print(f\"The program finish\")\n",
    "    \n"
   ]
  },
  {
   "cell_type": "code",
   "execution_count": 18,
   "id": "98f7df6e",
   "metadata": {},
   "outputs": [
    {
     "name": "stderr",
     "output_type": "stream",
     "text": [
      "0:151: execution error: Файл некий объект не найден. (-43)\n",
      "69:77: execution error: Не удается получить application \"chrome\". (-1728)\n"
     ]
    },
    {
     "name": "stdout",
     "output_type": "stream",
     "text": [
      "Work\n"
     ]
    }
   ],
   "source": [
    "import webbrowser as wb\n",
    "\n",
    "try:\n",
    "    file_path = \"/Users/shopangali05/Downloads/My file/IT3-2208/4 семестр/python/laborotory work/HTML_lab_12_to_python/HTML_labs12_to_python.html\"\n",
    "\n",
    "    wb.open_new_tab(\"file://\" + file_path)\n",
    "except:\n",
    "    print(f\"Error\")\n",
    "finally:\n",
    "    print(f\"Work\")"
   ]
  },
  {
   "cell_type": "code",
   "execution_count": null,
   "id": "853121c0",
   "metadata": {},
   "outputs": [],
   "source": []
  }
 ],
 "metadata": {
  "kernelspec": {
   "display_name": "Python 3 (ipykernel)",
   "language": "python",
   "name": "python3"
  },
  "language_info": {
   "codemirror_mode": {
    "name": "ipython",
    "version": 3
   },
   "file_extension": ".py",
   "mimetype": "text/x-python",
   "name": "python",
   "nbconvert_exporter": "python",
   "pygments_lexer": "ipython3",
   "version": "3.9.13"
  }
 },
 "nbformat": 4,
 "nbformat_minor": 5
}
