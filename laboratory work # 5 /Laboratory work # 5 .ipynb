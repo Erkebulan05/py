{
 "cells": [
  {
   "cell_type": "markdown",
   "id": "d3a1792c",
   "metadata": {},
   "source": [
    "Introduction to working with files. \n",
    "\n",
    "Step 1. Reading data from text files "
   ]
  },
  {
   "cell_type": "code",
   "execution_count": 30,
   "id": "408641c0",
   "metadata": {},
   "outputs": [
    {
     "name": "stdout",
     "output_type": "stream",
     "text": [
      "1010\n",
      "1036\n",
      "\n",
      "1041\n",
      "104\n",
      "9\n"
     ]
    }
   ],
   "source": [
    "l = []\n",
    "file = open(\"user_ids.txt\",encoding = \"utf- 8\")\n",
    "\n",
    "print(file.read(9))\n",
    "print(file.read(9))\n",
    "file.seek(0)\n",
    "print(file.seek(9))"
   ]
  },
  {
   "cell_type": "markdown",
   "id": "156ef6cb",
   "metadata": {},
   "source": [
    "1st = 8\n",
    "2nd = maybe 6\n",
    "3rd = 5 \n",
    "4th = 7\n",
    "5th = 8\n",
    "SIW = 14 \n",
    "6th = 8 \n",
    "7th = 8\n",
    "64\\70 \n",
    "28\\30\n",
    "92 \\ 100 \n"
   ]
  },
  {
   "cell_type": "code",
   "execution_count": 23,
   "id": "358141ad",
   "metadata": {},
   "outputs": [
    {
     "name": "stdout",
     "output_type": "stream",
     "text": [
      "{\\r\n"
     ]
    }
   ],
   "source": [
    "file_path = open(r\"/Users/shopangali05/Library/Mobile Documents/com~apple~TextEdit/Documents/data20.txt\")\n",
    "\n",
    "print(file_path .read(3))\n"
   ]
  },
  {
   "cell_type": "code",
   "execution_count": null,
   "id": "fe826164",
   "metadata": {},
   "outputs": [],
   "source": []
  }
 ],
 "metadata": {
  "kernelspec": {
   "display_name": "Python 3 (ipykernel)",
   "language": "python",
   "name": "python3"
  },
  "language_info": {
   "codemirror_mode": {
    "name": "ipython",
    "version": 3
   },
   "file_extension": ".py",
   "mimetype": "text/x-python",
   "name": "python",
   "nbconvert_exporter": "python",
   "pygments_lexer": "ipython3",
   "version": "3.9.13"
  }
 },
 "nbformat": 4,
 "nbformat_minor": 5
}
