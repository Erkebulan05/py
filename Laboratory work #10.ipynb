{
 "cells": [
  {
   "cell_type": "markdown",
   "id": "386adb99",
   "metadata": {},
   "source": [
    "Exercise 1 \n",
    "\n",
    "Using List Comprehensions create functions to calculate following output of the given number list – [4,-5,3,-2,0,10,-4,7,1]: \n",
    "\n",
    "return positive odd numbers (output: list) \n",
    "\n",
    "convert all elements to positive numbers (output: list) \n",
    "\n",
    "return number of positive odd numbers (output: int) \n",
    "\n",
    "return an average number (output: int) \n",
    "\n",
    "return an average number of positive/negative numbers (output: int, int) \n",
    "\n",
    "replace all negative numbers to zero (output: list) \n",
    "\n",
    " \n",
    "\n",
    "Note: You need to create seperated function for each given task. \n",
    "\n",
    " "
   ]
  },
  {
   "cell_type": "code",
   "execution_count": 24,
   "id": "8e3f71ed",
   "metadata": {},
   "outputs": [
    {
     "name": "stdout",
     "output_type": "stream",
     "text": [
      "convert positive odd numbers: [3, 7, 1]\n",
      "all convert positive numbers: [4, 5, 3, 2, 0, 10, 4, 7, 1]\n",
      "number of positive odd numbers: 3\n",
      "average number: [1.5555555555555556]\n",
      "average number of positive/negative numbers  (5.0, -3.6666666666666665)\n",
      "replace of negative number of zero: [4, 0, 3, 0, 0, 10, 0, 7, 1]\n"
     ]
    }
   ],
   "source": [
    "class Comprehensions:\n",
    "    def positive_odd(self,l):\n",
    "        return [elem for elem in l if elem > 0 and elem % 2 != 0]\n",
    "\n",
    "    def convert(self,l):\n",
    "        return [abs(elem) for elem in l]\n",
    "    \n",
    "    def number_positive_odd(self,l):\n",
    "        return len([elem for elem in l if elem > 0 and elem % 2 != 0])\n",
    "    \n",
    "    def average_number(self,l):\n",
    "        return [sum(l)/len(l)]\n",
    "    \n",
    "    def average_positive_negative(self,l):\n",
    "        positive = sum([elem for elem in l if elem > 0])/len([elem for elem in l if elem > 0])\n",
    "        negative= sum([elem for elem in l if elem < 0])/len([elem for elem in l if elem < 0])\n",
    "        return positive ,negative\n",
    "\n",
    "    def replace(self,l):\n",
    "        return [0 if num < 0 else num for num in l]\n",
    "\n",
    "l = [4,-5,3,-2,0,10,-4,7,1]\n",
    "con = Comprehensions()\n",
    "print(\"convert positive odd numbers:\",con.positive_odd(l))\n",
    "print(\"all convert positive numbers:\",con.convert(l))\n",
    "print(\"number of positive odd numbers:\", con.number_positive_odd(l))\n",
    "print(\"average number:\",con.average_number(l))\n",
    "print(\"average number of positive/negative numbers \",con.average_positive_negative(l))\n",
    "print(\"replace of negative number of zero:\" , con.replace(l))"
   ]
  },
  {
   "cell_type": "markdown",
   "id": "f3d20fec",
   "metadata": {},
   "source": [
    "Exercise 2  \n",
    "\n",
    "Write a function to calculate the sum of the n integers where n is specified by the user e.g. if the user inputs a value of 10 for n your function should calculate 1 + 2 + : : : + 9 + 10. "
   ]
  },
  {
   "cell_type": "code",
   "execution_count": 20,
   "id": "e2db0009",
   "metadata": {},
   "outputs": [
    {
     "name": "stdout",
     "output_type": "stream",
     "text": [
      "10\n",
      "55\n"
     ]
    }
   ],
   "source": [
    "def f(n):\n",
    "    return sum([i for i in range(n+1)])\n",
    "\n",
    "    \n",
    "n = int(input())   \n",
    "results = f(n)\n",
    "print(results)"
   ]
  },
  {
   "cell_type": "markdown",
   "id": "53db14be",
   "metadata": {},
   "source": [
    "Exercise 3 \n",
    "\n",
    "Write a function to print out all the Fibonacci numbers using short integer variables until the numbers become too large to be stored in a short integer variable. Note: Fibonacci numbers are (1, 1,2,3,5,8,13, etc.). "
   ]
  },
  {
   "cell_type": "code",
   "execution_count": 74,
   "id": "2b3eda21",
   "metadata": {},
   "outputs": [
    {
     "name": "stdout",
     "output_type": "stream",
     "text": [
      "[0, 1, 1, 2, 3, 5, 8, 13, 21, 34, 55, 89, 144, 233, 377, 610, 987, 1597, 2584, 4181, 6765, 10946, 17711, 28657, 46368, 75025, 121393, 196418, 317811, 514229, 832040, 1346269, 2178309, 3524578, 5702887, 9227465, 14930352, 24157817, 39088169, 63245986, 102334155, 165580141, 267914296, 433494437, 701408733, 1134903170, 1836311903, 2971215073, 4807526976, 7778742049, 12586269025, 20365011074, 32951280099, 53316291173, 86267571272, 139583862445, 225851433717, 365435296162, 591286729879, 956722026041, 1548008755920, 2504730781961, 4052739537881, 6557470319842, 10610209857723, 17167680177565, 27777890035288, 44945570212853, 72723460248141, 117669030460994, 190392490709135, 308061521170129, 498454011879264, 806515533049393, 1304969544928657, 2111485077978050, 3416454622906707, 5527939700884757, 8944394323791464, 14472334024676221, 23416728348467685, 37889062373143906, 61305790721611591, 99194853094755497, 160500643816367088, 259695496911122585, 420196140727489673, 679891637638612258, 1100087778366101931, 1779979416004714189, 2880067194370816120, 4660046610375530309, 7540113804746346429, 12200160415121876738, 19740274219868223167, 31940434634990099905, 51680708854858323072, 83621143489848422977, 135301852344706746049, 218922995834555169026, 354224848179261915075]\n"
     ]
    }
   ],
   "source": [
    "def fibonacci():\n",
    "    fib_sequence = [0, 1] \n",
    "    [fib_sequence.append(fib_sequence[-1] + fib_sequence[-2]) for i in range(2, 100+1)]\n",
    "    return fib_sequence\n",
    "\n",
    "\n",
    "results = fibonacci()\n",
    "print(results)"
   ]
  }
 ],
 "metadata": {
  "kernelspec": {
   "display_name": "Python 3 (ipykernel)",
   "language": "python",
   "name": "python3"
  },
  "language_info": {
   "codemirror_mode": {
    "name": "ipython",
    "version": 3
   },
   "file_extension": ".py",
   "mimetype": "text/x-python",
   "name": "python",
   "nbconvert_exporter": "python",
   "pygments_lexer": "ipython3",
   "version": "3.9.13"
  }
 },
 "nbformat": 4,
 "nbformat_minor": 5
}
