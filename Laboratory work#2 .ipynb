{
 "cells": [
  {
   "cell_type": "code",
   "execution_count": 87,
   "id": "42a6e719",
   "metadata": {},
   "outputs": [
    {
     "name": "stdout",
     "output_type": "stream",
     "text": [
      "The first list:[2, 4, 7, 1, 9]\n",
      "Lens of list:5\n",
      "Sum of list:23\n"
     ]
    }
   ],
   "source": [
    "# step 1 \n",
    "myList = ['one','two','three']\n",
    "list_of_some_values = [123,'python',True]\n",
    "just_numbers =[2,4,7,1,9]\n",
    "print(f\"The first list:{just_numbers}\")\n",
    "print(f\"Lens of list:{len(just_numbers)}\")\n",
    "print(f\"Sum of list:{sum(just_numbers)}\")\n"
   ]
  },
  {
   "cell_type": "code",
   "execution_count": 64,
   "id": "5c601c2c",
   "metadata": {},
   "outputs": [
    {
     "name": "stdout",
     "output_type": "stream",
     "text": [
      "The first list:[2, 4, 7, 1, 9]\n",
      "Sorted of list:[1, 2, 4, 7, 9]\n",
      "The reverse with sorted: [9, 7, 4, 2, 1]\n",
      "Reverse of list: [9, 1, 7, 4, 2]\n",
      "The second method reverse:[9, 1, 7, 4, 2]\n"
     ]
    }
   ],
   "source": [
    "#step 2 \n",
    "just_numbers =[2,4,7,1,9]\n",
    "print(f\"The first list:{just_numbers}\")\n",
    "print(f\"Sorted of list:{sorted(just_numbers)}\")\n",
    "print(\"The reverse with sorted:\",sorted( just_numbers, reverse = True ))\n",
    "print(f\"Reverse of list: {just_numbers[::-1]}\")\n",
    "just_numbers.reverse()\n",
    "print(f\"The second method reverse:{just_numbers}\")"
   ]
  },
  {
   "cell_type": "code",
   "execution_count": 61,
   "id": "f8f42d8c",
   "metadata": {},
   "outputs": [
    {
     "name": "stdout",
     "output_type": "stream",
     "text": [
      "[2, 1, 5, 4, 3, 55]\n",
      "['one', 'one', 'two']\n"
     ]
    }
   ],
   "source": [
    "# step 3 \n",
    "just_numbers = [2, 1, 5, 4, 3] \n",
    "just_numbers.append(55)\n",
    "print(just_numbers)\n",
    "\n",
    "words =['one','two','one']\n",
    "print(sorted(words))"
   ]
  },
  {
   "cell_type": "code",
   "execution_count": 81,
   "id": "3f70ad03",
   "metadata": {
    "scrolled": false
   },
   "outputs": [
    {
     "name": "stdout",
     "output_type": "stream",
     "text": [
      "['watch TV series online', ' sports news', ' movie poster', ' dollar rate', ' series this summer', ' python course', ' sports series']\n"
     ]
    }
   ],
   "source": [
    "queries_string = \"watch TV series online, sports news, movie poster, dollar rate, series this summer, python course, sports series\" \n",
    "print(queries_string.split(','))"
   ]
  },
  {
   "cell_type": "code",
   "execution_count": 110,
   "id": "d89939ca",
   "metadata": {
    "scrolled": true
   },
   "outputs": [
    {
     "name": "stdout",
     "output_type": "stream",
     "text": [
      "['003_logs_2017-11-03', ' 001_logs_2017-11-01', ' 005_logs_2017-11-05', ' 002_logs_2017-11-02', ' 004_logs_2017-11-04']\n",
      "The sorted:[' 001_logs_2017-11-01', ' 002_logs_2017-11-02', ' 004_logs_2017-11-04', ' 005_logs_2017-11-05', '003_logs_2017-11-03']\n",
      "New list: [' 001_logs_2017-11-01', ' 002_logs_2017-11-02', ' 004_logs_2017-11-04', ' 005_logs_2017-11-05', '003_logs_2017-11-03', '006_logs_2017-11-06']\n"
     ]
    }
   ],
   "source": [
    "the_text = \"003_logs_2017-11-03; 001_logs_2017-11-01; 005_logs_2017-11-05; 002_logs_2017-11-02; 004_logs_2017-11-04\" \n",
    "file_string = the_text.split(';')\n",
    "print(file_string)\n",
    "file_list = sorted(file_string)\n",
    "print(f\"The sorted:{file_list}\")\n",
    "file_list.append(\"006_logs_2017-11-06\")\n",
    "print(f\"New list: {file_list}\")"
   ]
  },
  {
   "cell_type": "code",
   "execution_count": 5,
   "id": "965f2173",
   "metadata": {},
   "outputs": [
    {
     "name": "stdout",
     "output_type": "stream",
     "text": [
      "['Hello, world!']\n",
      " Hello, world!   \n",
      "hello world!\n"
     ]
    }
   ],
   "source": [
    "s = \"+++ Hello, world!   \"\n",
    "stripped_s = s.strip(\"+\")\n",
    "list=[]\n",
    "list.append(s.strip(' + '))\n",
    "print(list)\n",
    "print(stripped_s)\n",
    "mylist = [\"hello\",\"world!\"]\n",
    "print(' '.join(mylist))"
   ]
  },
  {
   "cell_type": "code",
   "execution_count": 122,
   "id": "b10a0598",
   "metadata": {},
   "outputs": [
    {
     "name": "stdout",
     "output_type": "stream",
     "text": [
      "watch TV series online sports news movie poster dollar exchange rate series this summer python course sports series\n"
     ]
    }
   ],
   "source": [
    "#Exporting Calculation Results \n",
    "# step 1 \n",
    "queriesList = ['watch TV series online' ,'sports news', 'movie poster', 'dollar exchange rate', 'series this summer', 'python course', 'sports series'] \n",
    "string = ' '.join(queriesList)\n",
    "print(string)"
   ]
  },
  {
   "cell_type": "code",
   "execution_count": 126,
   "id": "401b5487",
   "metadata": {},
   "outputs": [
    {
     "name": "stdout",
     "output_type": "stream",
     "text": [
      "watch TV series online\tsports news\tmovie poster\tdollar exchange rate\tseries this summer\tpython course\tsports series\n"
     ]
    }
   ],
   "source": [
    "# step 2\n",
    "print( '\\t'.join( queriesList ) )"
   ]
  },
  {
   "cell_type": "code",
   "execution_count": 132,
   "id": "94851ce9",
   "metadata": {},
   "outputs": [
    {
     "name": "stdout",
     "output_type": "stream",
     "text": [
      " 001_logs_2017-11-01|| 002_logs_2017-11-02|| 004_logs_2017-11-04|| 005_logs_2017-11-05||003_logs_2017-11-03||006_logs_2017-11-06\n"
     ]
    }
   ],
   "source": [
    "print('||'.join(file_list))"
   ]
  },
  {
   "cell_type": "code",
   "execution_count": 13,
   "id": "e51714df",
   "metadata": {
    "scrolled": true
   },
   "outputs": [
    {
     "data": {
      "text/plain": [
       "'Yandex Direct'"
      ]
     },
     "execution_count": 13,
     "metadata": {},
     "output_type": "execute_result"
    }
   ],
   "source": [
    "# step 3 \n",
    "sequence = [ 'Google Adwords', 'Yandex Direct', 'Facebook', 'VK', 'Partner' ] \n",
    "sequence[1]"
   ]
  },
  {
   "cell_type": "code",
   "execution_count": 14,
   "id": "6927ef20",
   "metadata": {},
   "outputs": [
    {
     "data": {
      "text/plain": [
       "'Google Adwords'"
      ]
     },
     "execution_count": 14,
     "metadata": {},
     "output_type": "execute_result"
    }
   ],
   "source": [
    "# step 4 \n",
    "sequence[0]\n"
   ]
  },
  {
   "cell_type": "code",
   "execution_count": 16,
   "id": "a3769853",
   "metadata": {},
   "outputs": [
    {
     "data": {
      "text/plain": [
       "['Yandex Direct', 'Facebook']"
      ]
     },
     "execution_count": 16,
     "metadata": {},
     "output_type": "execute_result"
    }
   ],
   "source": [
    "sequence[1:3]"
   ]
  },
  {
   "cell_type": "code",
   "execution_count": 136,
   "id": "2fde3259",
   "metadata": {},
   "outputs": [
    {
     "data": {
      "text/plain": [
       "['Google Adwords', 'Yandex Direct', 'Facebook']"
      ]
     },
     "execution_count": 136,
     "metadata": {},
     "output_type": "execute_result"
    }
   ],
   "source": [
    "# step 5 \n",
    "sequence[:3] "
   ]
  },
  {
   "cell_type": "code",
   "execution_count": 17,
   "id": "880b8f21",
   "metadata": {},
   "outputs": [
    {
     "data": {
      "text/plain": [
       "['Facebook', 'VK']"
      ]
     },
     "execution_count": 17,
     "metadata": {},
     "output_type": "execute_result"
    }
   ],
   "source": [
    "# step 6 \n",
    "sequence[2:]\n",
    "sequence[-1:]\n",
    "sequence[-3:4]"
   ]
  },
  {
   "cell_type": "code",
   "execution_count": 1,
   "id": "bcdaeb0b",
   "metadata": {},
   "outputs": [
    {
     "data": {
      "text/plain": [
       "[2, 4, 6, 8, 10]"
      ]
     },
     "execution_count": 1,
     "metadata": {},
     "output_type": "execute_result"
    }
   ],
   "source": [
    "    #step 7 \n",
    "    justNumbers = [1, 2, 3, 4, 5, 6, 7, 8, 9, 10] \n",
    "    justNumbers[1::2]\n",
    "\n"
   ]
  },
  {
   "cell_type": "code",
   "execution_count": 189,
   "id": "9bc00a63",
   "metadata": {
    "scrolled": true
   },
   "outputs": [
    {
     "name": "stdout",
     "output_type": "stream",
     "text": [
      "['lisa', 10, 6, 8, 1, 9]\n",
      "['lisa', 10, 6, 1, 9]\n",
      "['lisa', 10, 6, 1, 9, 11, 'me']\n",
      "['lisa', 10, 6, 1, 9]\n"
     ]
    }
   ],
   "source": [
    "list=[2,3,6,8,1,9]\n",
    "list[0:2]=[\"lisa\",10]\n",
    "print(list)\n",
    "del list[3]\n",
    "print(list)\n",
    "print(list + [11, \"me\"])\n"
   ]
  },
  {
   "cell_type": "code",
   "execution_count": 194,
   "id": "4ccdf5b5",
   "metadata": {
    "scrolled": true
   },
   "outputs": [
    {
     "name": "stdout",
     "output_type": "stream",
     "text": [
      "['a', 'x', 'c']\n",
      "['a', 'x', 'c']\n"
     ]
    }
   ],
   "source": [
    "x = ['a','b','c']\n",
    "y=x\n",
    "y[1]='x'\n",
    "print(y)\n",
    "print(x)"
   ]
  },
  {
   "cell_type": "code",
   "execution_count": 223,
   "id": "609a48a2",
   "metadata": {},
   "outputs": [
    {
     "name": "stdout",
     "output_type": "stream",
     "text": [
      "['a', 'z', 'c']\n",
      "['a', 'b', 'c']\n"
     ]
    }
   ],
   "source": [
    "x = ['a', 'b', 'c']\n",
    "#y = []\n",
    "#for i in range(len(x)):\n",
    "#y=x[:] or\n",
    "y=x.copy()\n",
    "y[1]='z'\n",
    "print(y)\n",
    "print(x)"
   ]
  },
  {
   "cell_type": "code",
   "execution_count": 227,
   "id": "9da6af3c",
   "metadata": {},
   "outputs": [
    {
     "name": "stdout",
     "output_type": "stream",
     "text": [
      "[False, False, False, False, False]\n"
     ]
    }
   ],
   "source": [
    "bmi = [22, 23, 25, 26, 28]\n",
    "greater_than_20 = [value > 20 for value in bmi]\n",
    "print(greater_than_20)"
   ]
  },
  {
   "cell_type": "code",
   "execution_count": 237,
   "id": "79cf34ad",
   "metadata": {},
   "outputs": [
    {
     "data": {
      "text/plain": [
       "False"
      ]
     },
     "execution_count": 237,
     "metadata": {},
     "output_type": "execute_result"
    }
   ],
   "source": [
    "\"y\">\"zello\""
   ]
  },
  {
   "cell_type": "code",
   "execution_count": 249,
   "id": "f408e181",
   "metadata": {},
   "outputs": [
    {
     "name": "stdout",
     "output_type": "stream",
     "text": [
      "checking 4!\n",
      "checking 4!\n",
      "checking 4!\n",
      "z is even\n"
     ]
    }
   ],
   "source": [
    "z = 4\n",
    "if z% 2 == 0 :\n",
    "    print (\"checking\" +' '+str(z)+'!')\n",
    "    print(\"{} {}!\".format(\"checking\",z))\n",
    "    print(f\"checking {z}!\")\n",
    "    print()\n",
    "    print(\"z is even\")"
   ]
  },
  {
   "cell_type": "code",
   "execution_count": 250,
   "id": "07c24cba",
   "metadata": {},
   "outputs": [
    {
     "name": "stdout",
     "output_type": "stream",
     "text": [
      "[2, 3, 4, 6, 7]\n"
     ]
    }
   ],
   "source": [
    "x = [2,3,4,6,7]\n",
    "list=[]\n",
    "for i in x:\n",
    "    list.append(i)\n",
    "print(list)"
   ]
  },
  {
   "cell_type": "code",
   "execution_count": 253,
   "id": "67ef4812",
   "metadata": {},
   "outputs": [
    {
     "name": "stdout",
     "output_type": "stream",
     "text": [
      "1\n",
      "3\n",
      "5\n",
      "7\n",
      "9\n"
     ]
    }
   ],
   "source": [
    "for i in range(10):\n",
    "    if i % 2 ==0:\n",
    "        continue \n",
    "    print(i)"
   ]
  },
  {
   "cell_type": "code",
   "execution_count": 27,
   "id": "844f1557",
   "metadata": {},
   "outputs": [
    {
     "data": {
      "text/plain": [
       "[]"
      ]
     },
     "execution_count": 27,
     "metadata": {},
     "output_type": "execute_result"
    }
   ],
   "source": [
    "list =[2,4,7,9,10]\n",
    "list[-1:-5]"
   ]
  },
  {
   "cell_type": "code",
   "execution_count": null,
   "id": "5072627e",
   "metadata": {},
   "outputs": [],
   "source": []
  }
 ],
 "metadata": {
  "kernelspec": {
   "display_name": "Python 3 (ipykernel)",
   "language": "python",
   "name": "python3"
  },
  "language_info": {
   "codemirror_mode": {
    "name": "ipython",
    "version": 3
   },
   "file_extension": ".py",
   "mimetype": "text/x-python",
   "name": "python",
   "nbconvert_exporter": "python",
   "pygments_lexer": "ipython3",
   "version": "3.9.13"
  }
 },
 "nbformat": 4,
 "nbformat_minor": 5
}
