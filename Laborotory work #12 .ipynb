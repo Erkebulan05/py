{
 "cells": [
  {
   "cell_type": "markdown",
   "id": "0807c90d",
   "metadata": {},
   "source": [
    "Tasks\n",
    "Checking HTML tags\n",
    "Open Notepad.\n",
    "Name this document as Examples and Save it with .html extension. (Examples.html )\n",
    "Write html code (above) in Examples.html and check all the HTML tags, which have been shown in this lab file.\n",
    "NOTE: You don’t need to create html file for each tag, just include these tags to the first file (Examples.html).\n"
   ]
  },
  {
   "cell_type": "code",
   "execution_count": 3,
   "id": "15fd8e71",
   "metadata": {},
   "outputs": [
    {
     "name": "stderr",
     "output_type": "stream",
     "text": [
      "0:151: execution error: Файл некий объект не найден. (-43)\n",
      "69:77: execution error: Не удается получить application \"chrome\". (-1728)\n"
     ]
    },
    {
     "data": {
      "text/plain": [
       "True"
      ]
     },
     "execution_count": 3,
     "metadata": {},
     "output_type": "execute_result"
    }
   ],
   "source": [
    "import webbrowser as wb\n",
    "\n",
    "file_path = \"/Users/shopangali05/Downloads/My file/IT3-2208/4 семестр/python/laborotory work/HTML_lab_12_to_python/HTML_labs12_to_python.html\"\n",
    "\n",
    "wb.open_new_tab(\"file://\" + file_path)\n",
    "    "
   ]
  },
  {
   "cell_type": "markdown",
   "id": "798e0e00",
   "metadata": {},
   "source": [
    "Creating a Personal HTML Webpage using Python\n",
    "Using Python create a new file and named it AboutMe.html\n",
    "Create a Personal Webpage with the information about yourself by using all basics HTML tags, which described above in this file. The page must include the following information:\n",
    "Full name\n",
    "Photo\n",
    "Age\n",
    "Brief information about yourself\n",
    "Email\n",
    "Birth country\n",
    "Hobbies\n",
    "Study interests\n",
    "Knowledge of languages\n",
    "Programming/IT skills\n",
    "Automatically open this file on a new tab"
   ]
  },
  {
   "cell_type": "code",
   "execution_count": 7,
   "id": "08f64571",
   "metadata": {},
   "outputs": [
    {
     "name": "stderr",
     "output_type": "stream",
     "text": [
      "0:123: execution error: Файл некий объект не найден. (-43)\n",
      "69:77: execution error: Не удается получить application \"chrome\". (-1728)\n"
     ]
    },
    {
     "data": {
      "text/plain": [
       "True"
      ]
     },
     "execution_count": 7,
     "metadata": {},
     "output_type": "execute_result"
    }
   ],
   "source": [
    "import webbrowser as wb \n",
    "import os\n",
    "\n",
    "\n",
    "message = \"\"\"<!DOCTYPE html>\n",
    "<html> \n",
    "<head>\n",
    "<title>The personal documents about me</title>\n",
    "</head>\n",
    "<body>\n",
    "<h1>The information about myself:</h1>\n",
    "<h3>Full name: Shopangali Erkebulan </h3>\n",
    "<img src =\"/Users/shopangali05/Downloads/My file/Project-main/Opportunitues /document/Shopangali Erkebulan_photo.jpg\" alt =\"Photo\" width = '200' height = '200'> \n",
    "<p>2)Age: 18 years old</p>\n",
    "<p>3)Birth:15.05.2005</p>\n",
    "<p>4)Country:Kazakhstan(Aktau)</p>  \n",
    "<p>5)Hobbies:math,sports and learning new things</p>\n",
    "<p>6)Study interests:The programming languages(now i learning Java and Python) and math </p>\n",
    " </p>7)Knowledge of languages:kazakh,russian and english</p>\n",
    " <p>8)Programming/IT skills:I have a good knowledge of Python and C++.</p>\n",
    "</body>\n",
    "</html>\n",
    "\"\"\"\n",
    "filename = \"PersonalContact.html\"\n",
    "file_path = os.path.abspath(filename)\n",
    "\n",
    "with open(filename , \"w\") as f:\n",
    "    f.write(message)\n",
    "    \n",
    "wb.open_new_tab(\"file://\" + file_path)\n"
   ]
  },
  {
   "cell_type": "code",
   "execution_count": null,
   "id": "a8605e7b",
   "metadata": {},
   "outputs": [],
   "source": []
  }
 ],
 "metadata": {
  "kernelspec": {
   "display_name": "Python 3 (ipykernel)",
   "language": "python",
   "name": "python3"
  },
  "language_info": {
   "codemirror_mode": {
    "name": "ipython",
    "version": 3
   },
   "file_extension": ".py",
   "mimetype": "text/x-python",
   "name": "python",
   "nbconvert_exporter": "python",
   "pygments_lexer": "ipython3",
   "version": "3.9.13"
  }
 },
 "nbformat": 4,
 "nbformat_minor": 5
}
