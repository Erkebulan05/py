{
 "cells": [
  {
   "cell_type": "markdown",
   "id": "6de6916b",
   "metadata": {},
   "source": [
    "Example \n"
   ]
  },
  {
   "cell_type": "code",
   "execution_count": 5,
   "id": "74e42756",
   "metadata": {},
   "outputs": [
    {
     "name": "stdout",
     "output_type": "stream",
     "text": [
      "8\n"
     ]
    }
   ],
   "source": [
    "def addTwo(a, b):\n",
    "    added = a + b\n",
    "    return added\n",
    "\n",
    "x = addTwo(3, 5)\n",
    "print(x)\n"
   ]
  },
  {
   "cell_type": "markdown",
   "id": "f77d87d9",
   "metadata": {},
   "source": [
    "Exercise 1  \n",
    "What value does x contain after each of the following where x is of type float. \n",
    "\n",
    "1. x = 7 + 3 * 6 / 2 - 1 ; \n",
    "\n",
    "2. x=(3 *9*(3+(4*5/3))); \n",
    "\n",
    "3. x = 12.0 + 2 / 5 * 10.0; \n",
    "\n",
    "4. x=2/5+10.0*3-2.5;  "
   ]
  },
  {
   "cell_type": "code",
   "execution_count": 6,
   "id": "2fe00524",
   "metadata": {},
   "outputs": [
    {
     "name": "stdout",
     "output_type": "stream",
     "text": [
      "Result 1: 15.0\n",
      "Result 2: 261.00000000000006\n",
      "Result 3: 16.0\n",
      "Result 4: 27.9\n"
     ]
    }
   ],
   "source": [
    "def calculate_x_1():\n",
    "    x = 7 + 3 * 6 / 2 - 1\n",
    "    return x\n",
    "\n",
    "def calculate_x_2():\n",
    "    x = (3 * 9 * (3 + (4 * 5 / 3)))\n",
    "    return x\n",
    "\n",
    "def calculate_x_3():\n",
    "    x = 12.0 + 2 / 5 * 10.0\n",
    "    return x\n",
    "\n",
    "def calculate_x_4():\n",
    "    x = 2/5 + 10.0 * 3 - 2.5\n",
    "    return x\n",
    "\n",
    "result_1 = calculate_x_1()\n",
    "result_2 = calculate_x_2()\n",
    "result_3 = calculate_x_3()\n",
    "result_4 = calculate_x_4()\n",
    "\n",
    "print(\"Result 1:\", result_1)\n",
    "print(\"Result 2:\", result_2)\n",
    "print(\"Result 3:\", result_3)\n",
    "print(\"Result 4:\", result_4)\n"
   ]
  },
  {
   "cell_type": "markdown",
   "id": "48c46939",
   "metadata": {},
   "source": [
    "Exercise 2  \n",
    "Write a program to read Fahrenheit temperatures and print them in Celsius. The conversion formula is 1.  "
   ]
  },
  {
   "cell_type": "code",
   "execution_count": 9,
   "id": "bc38cd3d",
   "metadata": {},
   "outputs": [
    {
     "name": "stdout",
     "output_type": "stream",
     "text": [
      "100\n",
      "37.77777777777778\n"
     ]
    }
   ],
   "source": [
    "def convert(x):\n",
    "    y = (x-32)/1.8\n",
    "    return y\n",
    "    \n",
    "x = int(input())\n",
    "y = convert(x)\n",
    "print(y)"
   ]
  },
  {
   "cell_type": "markdown",
   "id": "317cc241",
   "metadata": {},
   "source": [
    "Exercise 3  \n",
    "\n",
    "Write a program that reads in the radius of a circle and prints the circle's diameter, circumference and area. Use the value 3.14159 for p.\t "
   ]
  },
  {
   "cell_type": "code",
   "execution_count": 14,
   "id": "e5be27e5",
   "metadata": {},
   "outputs": [
    {
     "name": "stdout",
     "output_type": "stream",
     "text": [
      "Enter the radius of the circle: 10\n",
      "Diameter of the circle: 20.0\n",
      "Circumference of the circle: 62.8318\n",
      "The area of circle:314.159\n"
     ]
    }
   ],
   "source": [
    "def calculate_circle_properties(radius):\n",
    "    pi = 3.14159\n",
    "    diameter = 2 * radius\n",
    "    circumference = 2 * pi * radius\n",
    "    area = pi * radius ** 2\n",
    "    return diameter, circumference, area\n",
    "\n",
    "radius = float(input(\"Enter the radius of the circle: \"))\n",
    "diameter, circumference, area = calculate_circle_properties(radius)\n",
    "print(f\"Diameter of the circle: {diameter}\")\n",
    "print(f\"Circumference of the circle: {circumference}\")\n",
    "print(f\"The area of circle:{area}\")\n"
   ]
  },
  {
   "cell_type": "markdown",
   "id": "d225c1e3",
   "metadata": {},
   "source": [
    "Exercise 4  \n",
    "\n",
    "Write a program to read in two points and calculate the distance between \n",
    "\n",
    "them. Given 2 points (x1; y1) and (x2; y2), the distance (d) between them is given by: \n"
   ]
  },
  {
   "cell_type": "code",
   "execution_count": 23,
   "id": "2a5b306a",
   "metadata": {},
   "outputs": [
    {
     "name": "stdout",
     "output_type": "stream",
     "text": [
      "40.0\n"
     ]
    }
   ],
   "source": [
    "import math \n",
    "def distance(x1,y1,x2,y2):\n",
    "    result = math.sqrt((x2-x1)**2+(y2-y1)**2)\n",
    "    return result \n",
    "\n",
    "\n",
    "result = distance(20,15,20,55)\n",
    "print(result)"
   ]
  },
  {
   "cell_type": "markdown",
   "id": "00078e08",
   "metadata": {},
   "source": [
    "Exercise 5 \n",
    "\n",
    "Get the user to input an integer number of seconds (i.e. 5049). Write a \n",
    "\n",
    "program to convert this in hours, minutes and seconds. (The modulus operator will \n",
    "\n",
    "come in handy). For example 5049 = H:1 M:24 S:9. \n",
    "\n",
    " "
   ]
  },
  {
   "cell_type": "code",
   "execution_count": 24,
   "id": "f0c6e79b",
   "metadata": {},
   "outputs": [
    {
     "name": "stdout",
     "output_type": "stream",
     "text": [
      "Enter the number of seconds: 5049\n",
      "5049 seconds = H:1 M:24 S:9\n"
     ]
    }
   ],
   "source": [
    "def convert_seconds(seconds):\n",
    "    hours = seconds // 3600\n",
    "    remaining_seconds = seconds % 3600\n",
    "    minutes = remaining_seconds // 60\n",
    "    seconds = remaining_seconds % 60\n",
    "    return hours, minutes, seconds\n",
    "seconds = int(input(\"Enter the number of seconds: \"))\n",
    "hours, minutes, remaining_seconds = convert_seconds(seconds)\n",
    "print(f\"{seconds} seconds = H:{hours} M:{minutes} S:{remaining_seconds}\")"
   ]
  },
  {
   "cell_type": "markdown",
   "id": "98f9b087",
   "metadata": {},
   "source": [
    "Exercise 6 \n",
    "\n",
    "A drinks machine manufacturer requires software for dispensing change. \n",
    "\n",
    "One euro (100 cent) is the maximum that can be put into the machine. Given the \n",
    "\n",
    "amount inserted and the cost of the item devise the change required. For example \n",
    "\n",
    "suppose you put in 1 euro for an item costing 45 cent then your program should \n",
    "\n",
    "generate output as follows: \n",
    "\n",
    "Number of 50 cent coins : 1 \n",
    "\n",
    "Number of 20 cent coins : 0 \n",
    "\n",
    "Number of 10 cent coins : 0 \n",
    "\n",
    "Number of 5 cent coins : 1 \n",
    "\n",
    "Number of 2 cent coins : 0 \n",
    "\n",
    "Number of 1 cent coins : 0 "
   ]
  },
  {
   "cell_type": "code",
   "execution_count": 30,
   "id": "212d7835",
   "metadata": {},
   "outputs": [
    {
     "name": "stdout",
     "output_type": "stream",
     "text": [
      "Enter the amount inserted (in cents): 100\n",
      "Enter the cost of the item (in cents): 45\n",
      "<class 'dict'>\n",
      "Change to be dispensed:\n",
      "Number of 50 cent coins: 1\n",
      "Number of 20 cent coins: 0\n",
      "Number of 10 cent coins: 0\n",
      "Number of 5 cent coins: 1\n",
      "Number of 2 cent coins: 0\n",
      "Number of 1 cent coins: 0\n"
     ]
    }
   ],
   "source": [
    "def calculate_change(amount_inserted, item_cost):\n",
    "    change_amount = amount_inserted - item_cost\n",
    "    coins = [50, 20, 10, 5, 2, 1]\n",
    "    change_coins = {}\n",
    "    for coin in coins:\n",
    "        num_coins = change_amount // coin\n",
    "        change_coins[coin] = num_coins\n",
    "        change_amount %= coin\n",
    "    return change_coins\n",
    "\n",
    "\n",
    "amount_inserted = int(input(\"Enter the amount inserted (in cents): \"))\n",
    "item_cost = int(input(\"Enter the cost of the item (in cents): \"))\n",
    "    \n",
    "change_coins = calculate_change(amount_inserted, item_cost)\n",
    "    \n",
    "print(\"Change to be dispensed:\")\n",
    "for coin, num_coins in change_coins.items():\n",
    "    print(f\"Number of {coin} cent coins: {num_coins}\")\n",
    "\n",
    "\n"
   ]
  },
  {
   "cell_type": "code",
   "execution_count": null,
   "id": "0c5b67ee",
   "metadata": {},
   "outputs": [],
   "source": []
  },
  {
   "cell_type": "code",
   "execution_count": null,
   "id": "9f6855b8",
   "metadata": {},
   "outputs": [],
   "source": []
  }
 ],
 "metadata": {
  "kernelspec": {
   "display_name": "Python 3 (ipykernel)",
   "language": "python",
   "name": "python3"
  },
  "language_info": {
   "codemirror_mode": {
    "name": "ipython",
    "version": 3
   },
   "file_extension": ".py",
   "mimetype": "text/x-python",
   "name": "python",
   "nbconvert_exporter": "python",
   "pygments_lexer": "ipython3",
   "version": "3.9.13"
  }
 },
 "nbformat": 4,
 "nbformat_minor": 5
}
