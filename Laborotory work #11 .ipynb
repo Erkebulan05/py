{
 "cells": [
  {
   "cell_type": "markdown",
   "id": "98c1d95e",
   "metadata": {},
   "source": [
    "Using array [2 3 5 6 1 2 4] write Numpy program to:  \n",
    "\n",
    "Get a new array with elements greater than 3 "
   ]
  },
  {
   "cell_type": "code",
   "execution_count": 2,
   "id": "1849dfc7",
   "metadata": {},
   "outputs": [
    {
     "name": "stdout",
     "output_type": "stream",
     "text": [
      "The original numpy array [2 3 5 6 1 2 4]\n",
      "The elements greater than 3:[5 6 4]\n"
     ]
    }
   ],
   "source": [
    "import numpy as np \n",
    "\n",
    "a = np.array([2,3,5,6,1,2,4])\n",
    "print(f\"The original numpy array {a}\")\n",
    "\n",
    "b = a[a> 3]\n",
    "print(f\"The elements greater than 3:{b}\")"
   ]
  },
  {
   "cell_type": "markdown",
   "id": "196543f2",
   "metadata": {},
   "source": [
    "Get a new array with squared elements "
   ]
  },
  {
   "cell_type": "code",
   "execution_count": 3,
   "id": "840e2f43",
   "metadata": {},
   "outputs": [
    {
     "name": "stdout",
     "output_type": "stream",
     "text": [
      "array with squared elements:[ 4  9 25 36  1  4 16]\n"
     ]
    }
   ],
   "source": [
    "squared_elements = a ** 2\n",
    "print(f\"array with squared elements:{squared_elements}\")"
   ]
  },
  {
   "cell_type": "markdown",
   "id": "36b4904e",
   "metadata": {},
   "source": [
    "Get a new array with elements greater than average value "
   ]
  },
  {
   "cell_type": "code",
   "execution_count": 4,
   "id": "15667152",
   "metadata": {},
   "outputs": [
    {
     "name": "stdout",
     "output_type": "stream",
     "text": [
      "average value: 3.2857142857142856\n",
      "array with elements greater than average value: [5 6 4]\n"
     ]
    }
   ],
   "source": [
    "average_value = np.mean(a)\n",
    "print(f\"average value: {average_value}\")\n",
    "b =a[average_value < a]\n",
    "print(f\"array with elements greater than average value: {b}\")\n"
   ]
  },
  {
   "cell_type": "markdown",
   "id": "01eb7f11",
   "metadata": {},
   "source": [
    "Create an element-wise multiplication/division/addition of two given arrays (second array- [1 2 1 2 1 2 3]) "
   ]
  },
  {
   "cell_type": "code",
   "execution_count": 5,
   "id": "04e562ba",
   "metadata": {
    "scrolled": true
   },
   "outputs": [
    {
     "name": "stdout",
     "output_type": "stream",
     "text": [
      "First array [2 3 5 6 1 2 4]\n",
      "Second array [1 2 1 2 1 2 3]\n",
      "Multiplication of two given arrays:[ 2  6  5 12  1  4 12]\n",
      "Divison of two given arrays:[2.         1.5        5.         3.         1.         1.\n",
      " 1.33333333]\n",
      "Addition of two given arrays:[3 5 6 8 2 4 7]\n",
      "Subtract of two given arrays:[1 1 4 4 0 0 1]\n"
     ]
    }
   ],
   "source": [
    "b = np.array([1,2,1,2,1,2,3])\n",
    "print(f\"First array {a}\")\n",
    "print(f\"Second array {b}\")\n",
    "\n",
    "multiplication = np.multiply(a,b)\n",
    "print(f\"Multiplication of two given arrays:{multiplication}\")\n",
    "\n",
    "divison = np.divide(a,b)\n",
    "print(f\"Divison of two given arrays:{divison}\")\n",
    "\n",
    "addition = np.add(a,b)\n",
    "print(f\"Addition of two given arrays:{addition}\")\n",
    "\n",
    "subtract = np.subtract(a,b)\n",
    "print(f\"Subtract of two given arrays:{subtract}\")"
   ]
  },
  {
   "cell_type": "code",
   "execution_count": 7,
   "id": "55bb310f",
   "metadata": {},
   "outputs": [
    {
     "data": {
      "text/plain": [
       "array([0.5       , 0.66666667, 0.2       , 0.33333333, 1.        ,\n",
       "       1.        , 0.75      ])"
      ]
     },
     "execution_count": 7,
     "metadata": {},
     "output_type": "execute_result"
    }
   ],
   "source": [
    "np.divide(b,a) "
   ]
  },
  {
   "cell_type": "code",
   "execution_count": 8,
   "id": "a22e6a37",
   "metadata": {},
   "outputs": [
    {
     "data": {
      "text/plain": [
       "array([3, 5, 6, 8, 2, 4, 7])"
      ]
     },
     "execution_count": 8,
     "metadata": {},
     "output_type": "execute_result"
    }
   ],
   "source": [
    "np.add(b,a) "
   ]
  },
  {
   "cell_type": "code",
   "execution_count": 9,
   "id": "fd15c9ec",
   "metadata": {},
   "outputs": [
    {
     "data": {
      "text/plain": [
       "array([ 2,  6,  5, 12,  1,  4, 12])"
      ]
     },
     "execution_count": 9,
     "metadata": {},
     "output_type": "execute_result"
    }
   ],
   "source": [
    "np.multiply(b,a)"
   ]
  },
  {
   "cell_type": "code",
   "execution_count": 10,
   "id": "45a45056",
   "metadata": {},
   "outputs": [
    {
     "data": {
      "text/plain": [
       "array([-1, -1, -4, -4,  0,  0, -1])"
      ]
     },
     "execution_count": 10,
     "metadata": {},
     "output_type": "execute_result"
    }
   ],
   "source": [
    "np.subtract(b,a)"
   ]
  },
  {
   "cell_type": "code",
   "execution_count": 11,
   "id": "cc0f3e2d",
   "metadata": {},
   "outputs": [
    {
     "data": {
      "text/plain": [
       "array([0, 0, 0, 0, 1, 1, 0])"
      ]
     },
     "execution_count": 11,
     "metadata": {},
     "output_type": "execute_result"
    }
   ],
   "source": [
    "np.floor_divide(b,a)"
   ]
  },
  {
   "cell_type": "code",
   "execution_count": null,
   "id": "6b8a9ccf",
   "metadata": {},
   "outputs": [],
   "source": []
  }
 ],
 "metadata": {
  "kernelspec": {
   "display_name": "Python 3 (ipykernel)",
   "language": "python",
   "name": "python3"
  },
  "language_info": {
   "codemirror_mode": {
    "name": "ipython",
    "version": 3
   },
   "file_extension": ".py",
   "mimetype": "text/x-python",
   "name": "python",
   "nbconvert_exporter": "python",
   "pygments_lexer": "ipython3",
   "version": "3.9.13"
  }
 },
 "nbformat": 4,
 "nbformat_minor": 5
}
