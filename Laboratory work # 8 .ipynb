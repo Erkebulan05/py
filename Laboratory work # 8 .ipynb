{
 "cells": [
  {
   "cell_type": "markdown",
   "id": "299c6835",
   "metadata": {},
   "source": [
    "Exercise 1 \n",
    "\n",
    "Create a new class and named it  MyTime. In the class MyTime define the properties for hour, minute and second values.  \n",
    "\n",
    "Include a method for defining a time by entered seconds value (initialize second value in the constructor) and assign these values to the appropriate properties. Call this method and show the result time in the output. "
   ]
  },
  {
   "cell_type": "code",
   "execution_count": 19,
   "id": "2facf2b9",
   "metadata": {},
   "outputs": [
    {
     "name": "stdout",
     "output_type": "stream",
     "text": [
      "Enter the number of seconds: 9000\n",
      "The time is: 02:30:00\n"
     ]
    }
   ],
   "source": [
    "class MyTime:\n",
    "    def __init__(self):\n",
    "        self.hour = 0\n",
    "        self.minute = 0\n",
    "        self.second = 0\n",
    "\n",
    "    def set_time_from_seconds(self, seconds):\n",
    "        self.hour = seconds // 3600\n",
    "        self.minute = (seconds % 3600) // 60\n",
    "        self.second = seconds % 60\n",
    "\n",
    "    def display_time(self):\n",
    "        print(f\"The time is: {self.hour:02d}:{self.minute:02d}:{self.second:02d}\")\n",
    "\n",
    "\n",
    "time_instance = MyTime()\n",
    "\n",
    "entered_seconds = int(input(\"Enter the number of seconds: \"))\n",
    "time_instance.set_time_from_seconds(entered_seconds)\n",
    "\n",
    "time_instance.display_time()\n"
   ]
  },
  {
   "cell_type": "markdown",
   "id": "47301500",
   "metadata": {},
   "source": [
    "Exercise 2 \n",
    "\n",
    "Create a new class and named it MyListClass. In the class define following: \n",
    "\n",
    "a) data fields(attributes, properties) with int data type for a list. \n",
    "\n",
    "b) constructor that initialize this list; \n",
    "\n",
    "c) method for getting a max/min value; \n",
    "\n",
    "d) method for returning same numbers of the list(the return data must be int list); \n",
    "\n",
    "e) method for returning same numbers and its count(the return data must be a dictionary); \n",
    "\n",
    "e) method for getting sum of the list. \n",
    "\n",
    " \n",
    "\n",
    " "
   ]
  },
  {
   "cell_type": "code",
   "execution_count": 17,
   "id": "90daa000",
   "metadata": {},
   "outputs": [
    {
     "name": "stdout",
     "output_type": "stream",
     "text": [
      "5\n",
      "Max value: 5\n",
      "Min value: 1\n",
      "Numbers that appear more than once: [2, 3]\n",
      "Numbers and their count: {1: 1, 2: 4, 3: 2, 4: 1, 5: 1}\n",
      "Sum of the list: 24\n"
     ]
    }
   ],
   "source": [
    "class MyListClass:\n",
    "    def __init__(self, data):\n",
    "        self.data = data\n",
    "\n",
    "    def get_max_value(self):\n",
    "        return max(self.data)\n",
    "\n",
    "    def get_min_value(self):\n",
    "        return min(self.data)\n",
    "\n",
    "    def get_same_numbers(self):\n",
    "        element_counts = {}\n",
    "        duplicates = []\n",
    "\n",
    "        for x in self.data:\n",
    "            if x in element_counts:\n",
    "                element_counts[x] += 1\n",
    "            else:\n",
    "                element_counts[x] = 1\n",
    "\n",
    "        for element, count in element_counts.items():\n",
    "            if count > 1:\n",
    "                duplicates.append(element)\n",
    "\n",
    "        return duplicates\n",
    "\n",
    "\n",
    "    def get_same_numbers_with_count(self):\n",
    "        numbers_count = {}\n",
    "        for num in self.data:\n",
    "            if num not in numbers_count:\n",
    "                numbers_count[num] = 1\n",
    "            else:\n",
    "                numbers_count[num] += 1\n",
    "        return numbers_count\n",
    "\n",
    "    def get_sum(self):\n",
    "        return sum(self.data)\n",
    "\n",
    "\n",
    "my_list = [1, 2, 3, 4, 5, 2, 3, 2, 2]\n",
    "my_list_instance = MyListClass(my_list)\n",
    "\n",
    "print(\"Max value:\", my_list_instance.get_max_value())\n",
    "print(\"Min value:\", my_list_instance.get_min_value())\n",
    "print(\"Numbers that appear more than once:\", my_list_instance.get_same_numbers())\n",
    "print(\"Numbers and their count:\", my_list_instance.get_same_numbers_with_count())\n",
    "print(\"Sum of the list:\", my_list_instance.get_sum())\n"
   ]
  },
  {
   "cell_type": "code",
   "execution_count": null,
   "id": "de63791a",
   "metadata": {},
   "outputs": [],
   "source": []
  }
 ],
 "metadata": {
  "kernelspec": {
   "display_name": "Python 3 (ipykernel)",
   "language": "python",
   "name": "python3"
  },
  "language_info": {
   "codemirror_mode": {
    "name": "ipython",
    "version": 3
   },
   "file_extension": ".py",
   "mimetype": "text/x-python",
   "name": "python",
   "nbconvert_exporter": "python",
   "pygments_lexer": "ipython3",
   "version": "3.9.13"
  }
 },
 "nbformat": 4,
 "nbformat_minor": 5
}
