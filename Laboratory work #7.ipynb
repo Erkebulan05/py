{
 "cells": [
  {
   "cell_type": "code",
   "execution_count": 2,
   "id": "362fb54f",
   "metadata": {},
   "outputs": [
    {
     "name": "stdout",
     "output_type": "stream",
     "text": [
      "Enter value for Number: 1\n",
      "Enter value for Firstname Lastname: Shopangali Erkebulan\n",
      "Enter value for Date of birth: 32/15/2005\n",
      "Invalid date format, month, or day out of range.\n",
      "Enter value for Date of birth: 15/05/2005\n",
      "Enter value for Email: shopangali.erkebulan@icloud.com\n",
      "Enter value for Mobile number: +7 700 689 63 12 \n",
      "Enter value for IBAN: KZN 7657465673547267\n"
     ]
    }
   ],
   "source": [
    "import re\n",
    "\n",
    "# Regular expressions for each field\n",
    "patterns = {\n",
    "    \"Number\": r'\\d+',\n",
    "    \"Firstname Lastname\": r'[A-Z][a-zA-Z\\s]+',\n",
    "    \"Date of birth\": r'^(0[1-9]|[12][0-9]|3[01])/(0[1-9]|1[0-2])/(19|20)\\d{2}$',\n",
    "    \"Email\": r'[A-Za-z0-9._%+-]+@[A-Za-z0-9.-]+\\.[A-Z|a-z]{2,}',\n",
    "    \"Mobile number\": r'\\+\\d{1,3}\\(\\d{3}\\)\\d{3}-\\d{2}-\\d{2}',\n",
    "    \"IBAN\": r'KZ\\d{18}'\n",
    "}\n",
    "\n",
    "# Function to prompt user input and insert into file\n",
    "def insert_info(filename, patterns):\n",
    "    with open(filename, 'w') as file:\n",
    "        for field, pattern in patterns.items():\n",
    "            value = input(f\"Enter value for {field}: \")\n",
    "            if field == \"Date of birth\":\n",
    "                while not re.fullmatch(pattern, value):\n",
    "                    print(\"Invalid date format, month, or day out of range.\")\n",
    "                    value = input(f\"Enter value for {field}: \")\n",
    "            else:\n",
    "                match = re.fullmatch(pattern, value)\n",
    "                if match:\n",
    "                    file.write(f\"{field}: {value}\\n\")\n",
    "                else:\n",
    "                    file.write(f\"{field}: None\\n\")\n",
    "\n",
    "# Call the function to insert information into the file\n",
    "insert_info(\"NewFile.txt\", patterns)\n"
   ]
  },
  {
   "cell_type": "code",
   "execution_count": null,
   "id": "6d6fe70a",
   "metadata": {},
   "outputs": [],
   "source": []
  },
  {
   "cell_type": "code",
   "execution_count": null,
   "id": "fc34c6de",
   "metadata": {},
   "outputs": [],
   "source": []
  }
 ],
 "metadata": {
  "kernelspec": {
   "display_name": "Python 3 (ipykernel)",
   "language": "python",
   "name": "python3"
  },
  "language_info": {
   "codemirror_mode": {
    "name": "ipython",
    "version": 3
   },
   "file_extension": ".py",
   "mimetype": "text/x-python",
   "name": "python",
   "nbconvert_exporter": "python",
   "pygments_lexer": "ipython3",
   "version": "3.9.13"
  }
 },
 "nbformat": 4,
 "nbformat_minor": 5
}
