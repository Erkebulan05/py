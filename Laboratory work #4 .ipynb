{
 "cells": [
  {
   "cell_type": "markdown",
   "id": "20a29169",
   "metadata": {},
   "source": [
    "                                Tuples \n",
    "1. Write a Python program to print a tuple with string formatting.   \n",
    "Sample tuple : (100, 200, 300) \n",
    "Output : This is a tuple (100, 200, 300) "
   ]
  },
  {
   "cell_type": "code",
   "execution_count": 50,
   "id": "376ed253",
   "metadata": {},
   "outputs": [
    {
     "name": "stdout",
     "output_type": "stream",
     "text": [
      "(100, 200, 300) <class 'str'>\n"
     ]
    }
   ],
   "source": [
    "tuple = (100,200,300)\n",
    "# output=\"This is a tuple {}\".format(tuple)\n",
    "# print(output , type(output))\n",
    "a = str(tuple)\n",
    "# a = f\"{tuple}\"\n",
    "print(a , type(a ))"
   ]
  },
  {
   "cell_type": "markdown",
   "id": "4182b8b7",
   "metadata": {},
   "source": [
    "2. Write a Python program to replace last value of tuples in a list.   \n",
    "\n",
    "Sample list: [(10, 20, 40), (40, 50, 60), (70, 80, 90)] \n",
    "\n",
    "Expected Output: [(10, 20, 100), (40, 50, 100), (70, 80, 100)] "
   ]
  },
  {
   "cell_type": "code",
   "execution_count": 28,
   "id": "8add21bf",
   "metadata": {},
   "outputs": [
    {
     "name": "stdout",
     "output_type": "stream",
     "text": [
      "[(10, 20, 100), (40, 50, 100), (70, 80, 100)] <class 'list'>\n"
     ]
    }
   ],
   "source": [
    "my_list = [(10, 20, 40), (40, 50, 60), (70, 80, 90)]\n",
    "second_list =[]\n",
    "for i in my_list:\n",
    "    i = list(i)\n",
    "    i[2]=100\n",
    "    second_list.append(tuple(i))\n",
    "print(second_list,type(second_list))"
   ]
  },
  {
   "cell_type": "markdown",
   "id": "1134fe30",
   "metadata": {},
   "source": [
    "3.Write a Python program calculate the product, multiplying all the numbers of a given tuple.  \n",
    "Original Tuple: \n",
    "(4, 3, 2, 2, -1, 18) \n",
    "\n",
    "Product - multiplying all the numbers of the said tuple: -864 \n",
    "\n",
    "Original Tuple: \n",
    "(2, 4, 8, 8, 3, 2, 9) \n",
    "\n",
    "Product - multiplying all the numbers of the said tuple: 27648 "
   ]
  },
  {
   "cell_type": "code",
   "execution_count": 249,
   "id": "630a06d8",
   "metadata": {},
   "outputs": [
    {
     "name": "stdout",
     "output_type": "stream",
     "text": [
      "multiplying all the numbers of the said tuple: -864\n",
      "multiplying all the numbers of the said tuple: 27648\n"
     ]
    }
   ],
   "source": [
    "my_tuple = (4,3,2,2,-1,18)\n",
    "product = 1\n",
    "for i in my_tuple:\n",
    "    product *=i\n",
    "print(\"multiplying all the numbers of the said tuple:\",product)\n",
    "new_tuple = (2,4,8,8,3,2,9)\n",
    "new_product = 1 \n",
    "for i in range(len(new_tuple)):\n",
    "    new_product*=new_tuple[i]\n",
    "print(\"multiplying all the numbers of the said tuple:\",new_product)"
   ]
  },
  {
   "cell_type": "markdown",
   "id": "d118fd30",
   "metadata": {},
   "source": [
    "4. Original Tuple: \n",
    "((10, 10, 10, 12), (30, 45, 56, 45), (81, 80, 39, 32), (1, 2, 3, 4)) \n",
    "\n",
    "Average value of the numbers of the said tuple of tuples: \n",
    "[10.5, 44, 58, 2.5] \n",
    " "
   ]
  },
  {
   "cell_type": "code",
   "execution_count": 250,
   "id": "af43db90",
   "metadata": {},
   "outputs": [
    {
     "name": "stdout",
     "output_type": "stream",
     "text": [
      "[10.5, 44.0, 58.0, 2.5]\n"
     ]
    }
   ],
   "source": [
    "original_tuple = ((10, 10, 10, 12), (30, 45, 56, 45), (81, 80, 39, 32), (1, 2, 3, 4))\n",
    "average_number = []\n",
    "for i in original_tuple:\n",
    "    i = list(i)\n",
    "    average = sum(i)/len(i)\n",
    "    average_number.append(average)\n",
    "print(average_number)"
   ]
  },
  {
   "cell_type": "markdown",
   "id": "240cefb6",
   "metadata": {},
   "source": [
    "5. Write a Python program to check if a specified element presents in a tuple of tuples.   \n",
    "Original list: \n",
    "\n",
    "(('Red', 'White', 'Blue'), ('Green', 'Pink', 'Purple'), ('Orange', 'Yellow', 'Lime')) \n",
    "\n",
    "Check if White present in said tuple of tuples! \n",
    "\n",
    "True \n",
    "\n",
    "Check if White present in said tuple of tuples! \n",
    "\n",
    "True \n",
    "\n",
    "Check if Olive present in said tuple of tuples! \n",
    "\n",
    "False \n",
    "\n",
    " \n",
    " "
   ]
  },
  {
   "cell_type": "code",
   "execution_count": 55,
   "id": "5a0f1cb8",
   "metadata": {},
   "outputs": [
    {
     "name": "stdout",
     "output_type": "stream",
     "text": [
      "Check if White present in said tuple of tuples! True\n",
      "Check if Lime present in said tuple of tuples! True\n",
      "Check if Olive present in said tuple of tuples! False\n"
     ]
    }
   ],
   "source": [
    "original_tuple = (('Red', 'White', 'Blue'), ('Green', 'Pink', 'Purple'), ('Orange', 'Yellow', 'Lime'))\n",
    "\n",
    "olive_present = False\n",
    "\n",
    "for i in original_tuple:\n",
    "    if 'White' in i:\n",
    "        print(\"Check if White present in said tuple of tuples! True\")\n",
    "    if 'Olive' in i:\n",
    "        if not olive_present:\n",
    "            print(\"Check if Olive present in said tuple of tuples! True\")\n",
    "            olive_present = True\n",
    "        else:\n",
    "            print(\"Check if Olive present in said tuple of tuples! False\")\n",
    "    if 'Lime' in i:\n",
    "        print(\"Check if Lime present in said tuple of tuples! True\")\n",
    "\n",
    "if not olive_present:\n",
    "    print(\"Check if Olive present in said tuple of tuples! False\")"
   ]
  },
  {
   "cell_type": "markdown",
   "id": "3cbed68f",
   "metadata": {},
   "source": [
    "                        Dictionaries \n",
    "\n",
    "1.  Write a Python script to add a key to a dictionary.   \n",
    "\n",
    "Sample Dictionary : {0: 10, 1: 20} \n",
    "\n",
    "Expected Result : {0: 10, 1: 20, 2: 30} "
   ]
  },
  {
   "cell_type": "code",
   "execution_count": 17,
   "id": "a8d43c12",
   "metadata": {},
   "outputs": [
    {
     "name": "stdout",
     "output_type": "stream",
     "text": [
      "{0: 10, 1: 20, 2: 30}\n"
     ]
    }
   ],
   "source": [
    "d = {0:10 , 1:20}\n",
    "# d.setdefault(2,30)\n",
    "d[2]=30\n",
    "print(d)\n"
   ]
  },
  {
   "cell_type": "markdown",
   "id": "adbad872",
   "metadata": {},
   "source": [
    "2.Write a Python script to concatenate following dictionaries to create a new one.   \n",
    "\n",
    "Sample Dictionary : \n",
    "\n",
    "dic1={1:10, 2:20} \n",
    "\n",
    "dic2={3:30, 4:40} \n",
    "\n",
    "dic3={5:50,6:60} \n",
    "\n",
    "Expected Result : {1: 10, 2: 20, 3: 30, 4: 40, 5: 50, 6: 60} "
   ]
  },
  {
   "cell_type": "code",
   "execution_count": 253,
   "id": "f9868500",
   "metadata": {},
   "outputs": [
    {
     "name": "stdout",
     "output_type": "stream",
     "text": [
      "{1: 10, 2: 20, 3: 30, 4: 40, 5: 50, 6: 60}\n"
     ]
    }
   ],
   "source": [
    "dic1 = {1: 10, 2: 20}\n",
    "dic2 = {3: 30, 4: 40}\n",
    "dic3 = {5: 50, 6: 60}\n",
    "\n",
    "result = {}\n",
    "result.update(dic1)\n",
    "result.update(dic2)\n",
    "result.update(dic3)\n",
    "print(result)\n"
   ]
  },
  {
   "cell_type": "markdown",
   "id": "d6a83f3b",
   "metadata": {},
   "source": [
    "3. Write a Python script to generate and print a dictionary that contains a number (between 1 and n) in the form (x, x*x).  \n",
    "\n",
    "Sample Dictionary (n = 5) : \n",
    "\n",
    "Expected Output: {1: 1, 2: 4, 3: 9, 4: 16, 5: 25} "
   ]
  },
  {
   "cell_type": "code",
   "execution_count": 254,
   "id": "9650faff",
   "metadata": {},
   "outputs": [
    {
     "name": "stdout",
     "output_type": "stream",
     "text": [
      "8\n",
      "{1: 1, 2: 4, 3: 9, 4: 16, 5: 25, 6: 36, 7: 49, 8: 64}\n"
     ]
    }
   ],
   "source": [
    "\n",
    "n =int(input())\n",
    "squared_dict = {}\n",
    "for x in range(1, n + 1):\n",
    "    squared_dict[x] = x * x\n",
    "print(squared_dict)"
   ]
  },
  {
   "cell_type": "markdown",
   "id": "a2746b00",
   "metadata": {},
   "source": [
    "4. Write a Python program to remove duplicates from Dictionary.  "
   ]
  },
  {
   "cell_type": "code",
   "execution_count": 255,
   "id": "44faca96",
   "metadata": {},
   "outputs": [
    {
     "name": "stdout",
     "output_type": "stream",
     "text": [
      "{1: 10, 2: 20, 3: 30, 4: 40, 5: 50, 6: 60, 9: 90}\n"
     ]
    }
   ],
   "source": [
    "d = {1:10 , 2:20 , 3:30 , 4:40 , 5:50 ,6:60 , 2:20,3:30,9:90}\n",
    "\n",
    "unique_dict = {}\n",
    "    \n",
    "\n",
    "for key, value in d.items():\n",
    "    if key not in unique_dict:\n",
    "        unique_dict[key] = value\n",
    "print(unique_dict)"
   ]
  },
  {
   "cell_type": "markdown",
   "id": "5d5a9f54",
   "metadata": {},
   "source": [
    "5. Write a Python program to combine two dictionary adding values for common keys.   \n",
    "d1 = {'a': 100, 'b': 200, 'c':300} \n",
    "\n",
    "d2 = {'a': 300, 'b': 200, 'd':400} \n",
    "\n",
    "Sample output: \n",
    "Counter({'a': 400, 'b': 400, 'd': 400, 'c': 300}) "
   ]
  },
  {
   "cell_type": "code",
   "execution_count": 56,
   "id": "cc2c4ce8",
   "metadata": {},
   "outputs": [
    {
     "name": "stdout",
     "output_type": "stream",
     "text": [
      "{'a': 400, 'b': 400, 'c': 300, 'd': 400}\n"
     ]
    }
   ],
   "source": [
    "d1 = {'a': 100, 'b': 200, 'c': 300}\n",
    "d2 = {'a': 300, 'b': 200, 'd': 400}\n",
    "d3 = {}\n",
    "\n",
    "for key in d1:\n",
    "    if key in d2:\n",
    "        d3[key] = d1[key] + d2[key]\n",
    "    else:\n",
    "        d3[key] = d1[key]  \n",
    "for key in d2:\n",
    "    if key not in d1:\n",
    "        d3[key] = d2[key]\n",
    "    \n",
    "\n",
    "print(d3)\n"
   ]
  },
  {
   "cell_type": "markdown",
   "id": "3f56ea51",
   "metadata": {},
   "source": [
    "                   Sets \n",
    "\n",
    "1. Write a Python program to find maximum and the minimum value in a set.   "
   ]
  },
  {
   "cell_type": "code",
   "execution_count": 355,
   "id": "079ee654",
   "metadata": {},
   "outputs": [
    {
     "name": "stdout",
     "output_type": "stream",
     "text": [
      "9\n",
      "1\n"
     ]
    }
   ],
   "source": [
    "s = {1,2,8,4,5,6,7,8,9,1}\n",
    "# max_value = 0 \n",
    "# min_value = 10000\n",
    "# for i in s:\n",
    "#     if i > max_value:\n",
    "#         max_value = i\n",
    "#     if i < min_value:\n",
    "#         min_value = i\n",
    "# print(max_value)\n",
    "# print(min_value)\n",
    "print(max(s))\n",
    "print(min(s))"
   ]
  },
  {
   "cell_type": "markdown",
   "id": "ec18aabb",
   "metadata": {},
   "source": [
    "2. Write a Python program to find the length of a set.   "
   ]
  },
  {
   "cell_type": "code",
   "execution_count": 6,
   "id": "c1448589",
   "metadata": {},
   "outputs": [
    {
     "name": "stdout",
     "output_type": "stream",
     "text": [
      "10\n",
      "{0, 1, 2, 3, 4, 5, 7, 8, 9, 10}\n",
      "10\n"
     ]
    }
   ],
   "source": [
    "s = {1,2,3,4,5,7,4,3,4,8,9,10,2,0,1}\n",
    "print(len(s))\n",
    "print(s)\n",
    "count = 0\n",
    "for i in range(len(s)):\n",
    "    count +=1\n",
    "print(count)"
   ]
  },
  {
   "cell_type": "markdown",
   "id": "c005a6bd",
   "metadata": {},
   "source": [
    "3. Write a Python program to check if a given value is present in a set or not.   "
   ]
  },
  {
   "cell_type": "code",
   "execution_count": 372,
   "id": "4cbc02ad",
   "metadata": {},
   "outputs": [
    {
     "name": "stdout",
     "output_type": "stream",
     "text": [
      "9 is present in the set.\n"
     ]
    }
   ],
   "source": [
    "s = {1,2,3,4,5,6,7,8,9,10}\n",
    "i = 9\n",
    "if i in s:\n",
    "    print(\"{} is present in the set.\".format(i))\n",
    "else:\n",
    "     print(f\"{i} is not present in the set.\")\n"
   ]
  },
  {
   "cell_type": "markdown",
   "id": "f26d0837",
   "metadata": {},
   "source": [
    "Bonus task(which i created ):For example we given text and we need count the exclusive words in the text "
   ]
  },
  {
   "cell_type": "code",
   "execution_count": 374,
   "id": "9af9732d",
   "metadata": {},
   "outputs": [
    {
     "name": "stdout",
     "output_type": "stream",
     "text": [
      "{'l', 'w', 'H', 'e', 'r', 'd', 'o'} <class 'set'>\n",
      "7\n"
     ]
    }
   ],
   "source": [
    "text = \"Hello world\"\n",
    "a= text.split()\n",
    "s = set()\n",
    "for i in a:\n",
    "    i.split()\n",
    "#     print(i)\n",
    "    for j in i:\n",
    "        j.split()\n",
    "#         print(j)\n",
    "        s.update(j)\n",
    "print(s , type(s))\n",
    "print(len(s))"
   ]
  },
  {
   "cell_type": "code",
   "execution_count": 5,
   "id": "fcf49aa4",
   "metadata": {},
   "outputs": [],
   "source": [
    "# for text in iter(input, ''):\n",
    "#     print(\"Вы ввели:\", text)\n",
    "\n",
    "# print(\"Вы ввели пустую строку. Программа завершена.\")\n"
   ]
  },
  {
   "cell_type": "code",
   "execution_count": 11,
   "id": "554a7d39",
   "metadata": {},
   "outputs": [
    {
     "name": "stdout",
     "output_type": "stream",
     "text": [
      "{1: 10, 3: 30, 5: 50, 2: 20, 4: 40} <class 'dict'>\n",
      "5\n"
     ]
    }
   ],
   "source": [
    "d = {1:10,3:30,5:50,1:10,2:20,3:30,4:40}\n",
    "print(d,type(d))\n",
    "print(len(d))"
   ]
  },
  {
   "cell_type": "code",
   "execution_count": 30,
   "id": "bc9bb8a8",
   "metadata": {},
   "outputs": [
    {
     "name": "stdout",
     "output_type": "stream",
     "text": [
      "21\n",
      "6\n"
     ]
    }
   ],
   "source": [
    "t = 1,2,3,4,5,6\n",
    "print(sum(t))\n",
    "print(len(t))"
   ]
  },
  {
   "cell_type": "code",
   "execution_count": 53,
   "id": "50157db3",
   "metadata": {},
   "outputs": [
    {
     "name": "stdout",
     "output_type": "stream",
     "text": [
      "{1: 100, 3: 900, 5: 2500, 2: 400, 4: 1600}\n"
     ]
    }
   ],
   "source": [
    "d = {1:10,3:30,5:50,1:10,2:20,3:30,4:40}\n",
    "for i in d.keys():\n",
    "    d[i]=d[i]**2\n",
    "print(d)"
   ]
  },
  {
   "cell_type": "code",
   "execution_count": null,
   "id": "0fb58497",
   "metadata": {},
   "outputs": [],
   "source": []
  }
 ],
 "metadata": {
  "kernelspec": {
   "display_name": "Python 3 (ipykernel)",
   "language": "python",
   "name": "python3"
  },
  "language_info": {
   "codemirror_mode": {
    "name": "ipython",
    "version": 3
   },
   "file_extension": ".py",
   "mimetype": "text/x-python",
   "name": "python",
   "nbconvert_exporter": "python",
   "pygments_lexer": "ipython3",
   "version": "3.9.13"
  }
 },
 "nbformat": 4,
 "nbformat_minor": 5
}
