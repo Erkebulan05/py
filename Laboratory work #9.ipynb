{
 "cells": [
  {
   "cell_type": "markdown",
   "id": "80bef32f",
   "metadata": {},
   "source": [
    "Exercise 1 \n",
    "\n",
    "Create a new class and named it myTime.  \n",
    "\n",
    "a) In the class body declare second, minute and hour variables. Define method for converting current time to seconds and another method to minutes (in the methods calculate how many seconds(minutes) the current time includes, for example the current time 10:12:01 has 36721 seconds). \n",
    "\n",
    "b) create a new child class of the myTime class and named it analogTime, where define  methods to represent the current time into analog time and American time (for example, the current time is 23:12:02, the analog time is 11:12:02, the American time is 11:12:02 p.m.).  "
   ]
  },
  {
   "cell_type": "code",
   "execution_count": 8,
   "id": "a482a408",
   "metadata": {},
   "outputs": [
    {
     "name": "stdout",
     "output_type": "stream",
     "text": [
      "Enter time in the format (HH:MM:SS): 23:12:02\n",
      "convert second 83522\n",
      "American Time: 11:12:02 p.m.\n"
     ]
    }
   ],
   "source": [
    "class myTime:\n",
    "    def __init__(self, hour=0, minute=0, second=0):\n",
    "        self.hour = int(hour) \n",
    "        self.minute = int(minute) \n",
    "        self.second = int(second)   \n",
    "\n",
    "    def app(self, cur):\n",
    "        l = []\n",
    "        for i in cur:\n",
    "            for j in i:\n",
    "                if j == \":\":\n",
    "                    continue\n",
    "                else:\n",
    "                    l.append(j)\n",
    "        return l  # [\"1\",\"3\",\"0\",\"5\",\"2\",\"0\"]\n",
    "\n",
    "    def convert(self, l):\n",
    "        self.hour = int(l[0] + l[1])  # [\"13\"]\n",
    "        self.minute = int(l[2] + l[3])  # [\"05\"]\n",
    "        self.second = int(l[4] + l[5])  # [\"20\"]\n",
    "        con = (self.hour * 3600) + (self.minute * 60) + self.second\n",
    "        return f\"convert second {con}\"\n",
    "\n",
    "\n",
    "class analogTime(myTime):\n",
    "    def to_american_time(self):\n",
    "        america_hour = self.hour % 12\n",
    "        if america_hour == 0:\n",
    "            america_hour = 12\n",
    "        if self.hour < 12:\n",
    "            am_pm = \"a.m.\"\n",
    "        else:\n",
    "            am_pm = \"p.m.\"\n",
    "        return f\"{america_hour:02d}:{self.minute:02d}:{self.second:02d} {am_pm}\"\n",
    "\n",
    "\n",
    "cur =input(\"Enter time in the format (HH:MM:SS): \")  # 13:05:20\n",
    "time = myTime()\n",
    "res = time.app(cur)\n",
    "result = time.convert(res)\n",
    "print(result)\n",
    "\n",
    "current_time = analogTime()\n",
    "res1 = current_time.app(cur)\n",
    "result1 = current_time.convert(res1)\n",
    "result2 = current_time.to_american_time()\n",
    "print(\"American Time:\", result2)\n"
   ]
  },
  {
   "cell_type": "markdown",
   "id": "a75567f5",
   "metadata": {},
   "source": [
    "Exercise 2 \n",
    "\n",
    " \n",
    "\n",
    "Define a base class named Point containing: \n",
    "\n",
    "x and y variables of type int.  \n",
    "\n",
    "Constructor that accepts values of all data members as arguments.  \n",
    "\n",
    "Define a child class named Circle. A Circle object stores a radius (double)  and inherit the (x, y) coordinates of its center from its base class Point. Each Circle object should have the following public methods:  \n",
    "\n",
    "Circle(x, y, radius) \n",
    "Constructs a new circle with a center specified by the given coordinators x,y and with the given double  radius.  \n",
    "\n",
    "getArea() \n",
    "Returns the area occupied by the circle, using the formula πr2.  \n",
    "\n",
    "getCircumference() \n",
    "Returns the circle's circumference (distance around the circle), using the formula 2πr.  "
   ]
  },
  {
   "cell_type": "code",
   "execution_count": 155,
   "id": "500832e0",
   "metadata": {},
   "outputs": [
    {
     "name": "stdout",
     "output_type": "stream",
     "text": [
      "8\n",
      "10\n",
      "15\n",
      "The area 706.8583470577034\n",
      "The circumference 94.24777960769379\n"
     ]
    }
   ],
   "source": [
    "import math\n",
    "class Point:\n",
    "    def __init__(self,x=0 ,y=0 ):\n",
    "        self.x =x\n",
    "        self.y =y\n",
    "        \n",
    "class Circle(Point):\n",
    "    def __init__(self,x=0,y=0,raduis=0):\n",
    "        super().__init__(x,y)\n",
    "        self.raduis =raduis\n",
    "    def getArea(self):\n",
    "        area= math.pi*self.raduis**2\n",
    "        print(f\"The area {area}\")\n",
    "    def getCircumference(self):\n",
    "        Circumference=(2*math.pi*self.raduis)\n",
    "        print(f\"The circumference {Circumference}\")\n",
    "\n",
    "x = int(input())\n",
    "y = int(input())\n",
    "r = int(input())\n",
    "c = Circle(x,y,r)\n",
    "c.getArea()\n",
    "c.getCircumference()\n",
    "    "
   ]
  },
  {
   "cell_type": "code",
   "execution_count": null,
   "id": "703cb511",
   "metadata": {},
   "outputs": [],
   "source": []
  }
 ],
 "metadata": {
  "kernelspec": {
   "display_name": "Python 3 (ipykernel)",
   "language": "python",
   "name": "python3"
  },
  "language_info": {
   "codemirror_mode": {
    "name": "ipython",
    "version": 3
   },
   "file_extension": ".py",
   "mimetype": "text/x-python",
   "name": "python",
   "nbconvert_exporter": "python",
   "pygments_lexer": "ipython3",
   "version": "3.9.13"
  }
 },
 "nbformat": 4,
 "nbformat_minor": 5
}
